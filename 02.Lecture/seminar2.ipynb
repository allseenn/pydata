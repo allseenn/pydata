{
 "cells": [
  {
   "cell_type": "markdown",
   "source": [
    "csv #- comma-separated values - данные разделенные запятой\n",
    "df = pd.read_csv('file.csv', # функция считывания внешнего файла формата csv (можно выбрать необходимый формат)\n",
    "                 encoding='windows-1251',\n",
    "                 sep = ';',\n",
    "                 index_col='название_столбца',\n",
    "                 parse_dates=['Date'],\n",
    "                 dayfirst=True)\n",
    "# 'file.csv' - путь к файлу,\n",
    "# sep - разделитель sep(по умолчаниию ',')\n",
    "# encoding – параметр в read_csv, отвечает за кодировку текста, которая может быть различной. Самая распространённая – utf\n",
    "# index_col='название_столбца' - название столбца, который будет выступать как столбец индексов\n",
    "# index_col=[0] - индекс столбца, который будет выступать как столбец индексов\n",
    "# parse_dates – указывает, стоит ли воспринимать даты как даты (по умолчанию они воспринимаются пандасом как строки).\n",
    "    # пример pd.read_csv(path, parse_dates=['some_date', 'another_date'])\n",
    "    # Параметр с датами может принимать несколько значений:\n",
    "    # True – пытается перевести в дату первую колонку\n",
    "    # список колонок – parse_dates=['some_date', 'another_date']\n",
    "    # пытается перевести в дату указанные в списке колонки и столбцы create_data, payment_data\n",
    "    # будут обрабатываться как даты\n",
    "# dayfirst=True  - первое значение в дате это день или нет - True/False\n",
    "# df['Date'].dt.name - номер дня недели в соответствии с данными в колонке с датами\n",
    "# df['Date'].dt.name() - название дня недели в соответствии с данными в колонке с датами\n",
    "# df['Date'].dt.month - номер месяца в соответствии с данными в колонке с датами\n",
    "# df['Date'].dt.month() - название месяца в соответствии с данными в колонке с датами"
   ],
   "metadata": {
    "collapsed": false
   }
  },
  {
   "cell_type": "markdown",
   "source": [
    "Скачать данные по ссылке https://www.kaggle.com/datasets/ionaskel/laptop-prices\n",
    "Считать данные с помощью pandas\n",
    "Вывести на экран первые 5 строк\n",
    "Посмотреть на описание признаков и на их содержание"
   ],
   "metadata": {
    "collapsed": false
   }
  },
  {
   "cell_type": "code",
   "execution_count": 23,
   "outputs": [],
   "source": [
    "import pandas as pd\n",
    "\n",
    "df = pd.read_csv('laptop_price.csv', encoding='windows-1251')"
   ],
   "metadata": {
    "collapsed": false
   }
  },
  {
   "cell_type": "code",
   "execution_count": 24,
   "outputs": [
    {
     "name": "stdout",
     "output_type": "stream",
     "text": [
      "<class 'pandas.core.frame.DataFrame'>\n",
      "RangeIndex: 1303 entries, 0 to 1302\n",
      "Data columns (total 13 columns):\n",
      " #   Column            Non-Null Count  Dtype  \n",
      "---  ------            --------------  -----  \n",
      " 0   laptop_ID         1303 non-null   int64  \n",
      " 1   Company           1303 non-null   object \n",
      " 2   Product           1303 non-null   object \n",
      " 3   TypeName          1303 non-null   object \n",
      " 4   Inches            1303 non-null   float64\n",
      " 5   ScreenResolution  1303 non-null   object \n",
      " 6   Cpu               1303 non-null   object \n",
      " 7   Ram               1303 non-null   object \n",
      " 8   Memory            1303 non-null   object \n",
      " 9   Gpu               1303 non-null   object \n",
      " 10  OpSys             1303 non-null   object \n",
      " 11  Weight            1303 non-null   object \n",
      " 12  Price_euros       1303 non-null   float64\n",
      "dtypes: float64(2), int64(1), object(10)\n",
      "memory usage: 132.5+ KB\n"
     ]
    }
   ],
   "source": [
    "df.info()"
   ],
   "metadata": {
    "collapsed": false
   }
  },
  {
   "cell_type": "code",
   "execution_count": 25,
   "outputs": [
    {
     "data": {
      "text/plain": "         laptop_ID       Inches  Price_euros\ncount  1303.000000  1303.000000  1303.000000\nmean    660.155794    15.017191  1123.686992\nstd     381.172104     1.426304   699.009043\nmin       1.000000    10.100000   174.000000\n25%     331.500000    14.000000   599.000000\n50%     659.000000    15.600000   977.000000\n75%     990.500000    15.600000  1487.880000\nmax    1320.000000    18.400000  6099.000000",
      "text/html": "<div>\n<style scoped>\n    .dataframe tbody tr th:only-of-type {\n        vertical-align: middle;\n    }\n\n    .dataframe tbody tr th {\n        vertical-align: top;\n    }\n\n    .dataframe thead th {\n        text-align: right;\n    }\n</style>\n<table border=\"1\" class=\"dataframe\">\n  <thead>\n    <tr style=\"text-align: right;\">\n      <th></th>\n      <th>laptop_ID</th>\n      <th>Inches</th>\n      <th>Price_euros</th>\n    </tr>\n  </thead>\n  <tbody>\n    <tr>\n      <th>count</th>\n      <td>1303.000000</td>\n      <td>1303.000000</td>\n      <td>1303.000000</td>\n    </tr>\n    <tr>\n      <th>mean</th>\n      <td>660.155794</td>\n      <td>15.017191</td>\n      <td>1123.686992</td>\n    </tr>\n    <tr>\n      <th>std</th>\n      <td>381.172104</td>\n      <td>1.426304</td>\n      <td>699.009043</td>\n    </tr>\n    <tr>\n      <th>min</th>\n      <td>1.000000</td>\n      <td>10.100000</td>\n      <td>174.000000</td>\n    </tr>\n    <tr>\n      <th>25%</th>\n      <td>331.500000</td>\n      <td>14.000000</td>\n      <td>599.000000</td>\n    </tr>\n    <tr>\n      <th>50%</th>\n      <td>659.000000</td>\n      <td>15.600000</td>\n      <td>977.000000</td>\n    </tr>\n    <tr>\n      <th>75%</th>\n      <td>990.500000</td>\n      <td>15.600000</td>\n      <td>1487.880000</td>\n    </tr>\n    <tr>\n      <th>max</th>\n      <td>1320.000000</td>\n      <td>18.400000</td>\n      <td>6099.000000</td>\n    </tr>\n  </tbody>\n</table>\n</div>"
     },
     "execution_count": 25,
     "metadata": {},
     "output_type": "execute_result"
    }
   ],
   "source": [
    "df.describe()"
   ],
   "metadata": {
    "collapsed": false
   }
  },
  {
   "cell_type": "code",
   "execution_count": 26,
   "outputs": [
    {
     "data": {
      "text/plain": "      laptop_ID  Company  Product  TypeName  Inches  ScreenResolution    Cpu  \\\n0         False    False    False     False   False             False  False   \n1         False    False    False     False   False             False  False   \n2         False    False    False     False   False             False  False   \n3         False    False    False     False   False             False  False   \n4         False    False    False     False   False             False  False   \n...         ...      ...      ...       ...     ...               ...    ...   \n1298      False    False    False     False   False             False  False   \n1299      False    False    False     False   False             False  False   \n1300      False    False    False     False   False             False  False   \n1301      False    False    False     False   False             False  False   \n1302      False    False    False     False   False             False  False   \n\n        Ram  Memory    Gpu  OpSys  Weight  Price_euros  \n0     False   False  False  False   False        False  \n1     False   False  False  False   False        False  \n2     False   False  False  False   False        False  \n3     False   False  False  False   False        False  \n4     False   False  False  False   False        False  \n...     ...     ...    ...    ...     ...          ...  \n1298  False   False  False  False   False        False  \n1299  False   False  False  False   False        False  \n1300  False   False  False  False   False        False  \n1301  False   False  False  False   False        False  \n1302  False   False  False  False   False        False  \n\n[1303 rows x 13 columns]",
      "text/html": "<div>\n<style scoped>\n    .dataframe tbody tr th:only-of-type {\n        vertical-align: middle;\n    }\n\n    .dataframe tbody tr th {\n        vertical-align: top;\n    }\n\n    .dataframe thead th {\n        text-align: right;\n    }\n</style>\n<table border=\"1\" class=\"dataframe\">\n  <thead>\n    <tr style=\"text-align: right;\">\n      <th></th>\n      <th>laptop_ID</th>\n      <th>Company</th>\n      <th>Product</th>\n      <th>TypeName</th>\n      <th>Inches</th>\n      <th>ScreenResolution</th>\n      <th>Cpu</th>\n      <th>Ram</th>\n      <th>Memory</th>\n      <th>Gpu</th>\n      <th>OpSys</th>\n      <th>Weight</th>\n      <th>Price_euros</th>\n    </tr>\n  </thead>\n  <tbody>\n    <tr>\n      <th>0</th>\n      <td>False</td>\n      <td>False</td>\n      <td>False</td>\n      <td>False</td>\n      <td>False</td>\n      <td>False</td>\n      <td>False</td>\n      <td>False</td>\n      <td>False</td>\n      <td>False</td>\n      <td>False</td>\n      <td>False</td>\n      <td>False</td>\n    </tr>\n    <tr>\n      <th>1</th>\n      <td>False</td>\n      <td>False</td>\n      <td>False</td>\n      <td>False</td>\n      <td>False</td>\n      <td>False</td>\n      <td>False</td>\n      <td>False</td>\n      <td>False</td>\n      <td>False</td>\n      <td>False</td>\n      <td>False</td>\n      <td>False</td>\n    </tr>\n    <tr>\n      <th>2</th>\n      <td>False</td>\n      <td>False</td>\n      <td>False</td>\n      <td>False</td>\n      <td>False</td>\n      <td>False</td>\n      <td>False</td>\n      <td>False</td>\n      <td>False</td>\n      <td>False</td>\n      <td>False</td>\n      <td>False</td>\n      <td>False</td>\n    </tr>\n    <tr>\n      <th>3</th>\n      <td>False</td>\n      <td>False</td>\n      <td>False</td>\n      <td>False</td>\n      <td>False</td>\n      <td>False</td>\n      <td>False</td>\n      <td>False</td>\n      <td>False</td>\n      <td>False</td>\n      <td>False</td>\n      <td>False</td>\n      <td>False</td>\n    </tr>\n    <tr>\n      <th>4</th>\n      <td>False</td>\n      <td>False</td>\n      <td>False</td>\n      <td>False</td>\n      <td>False</td>\n      <td>False</td>\n      <td>False</td>\n      <td>False</td>\n      <td>False</td>\n      <td>False</td>\n      <td>False</td>\n      <td>False</td>\n      <td>False</td>\n    </tr>\n    <tr>\n      <th>...</th>\n      <td>...</td>\n      <td>...</td>\n      <td>...</td>\n      <td>...</td>\n      <td>...</td>\n      <td>...</td>\n      <td>...</td>\n      <td>...</td>\n      <td>...</td>\n      <td>...</td>\n      <td>...</td>\n      <td>...</td>\n      <td>...</td>\n    </tr>\n    <tr>\n      <th>1298</th>\n      <td>False</td>\n      <td>False</td>\n      <td>False</td>\n      <td>False</td>\n      <td>False</td>\n      <td>False</td>\n      <td>False</td>\n      <td>False</td>\n      <td>False</td>\n      <td>False</td>\n      <td>False</td>\n      <td>False</td>\n      <td>False</td>\n    </tr>\n    <tr>\n      <th>1299</th>\n      <td>False</td>\n      <td>False</td>\n      <td>False</td>\n      <td>False</td>\n      <td>False</td>\n      <td>False</td>\n      <td>False</td>\n      <td>False</td>\n      <td>False</td>\n      <td>False</td>\n      <td>False</td>\n      <td>False</td>\n      <td>False</td>\n    </tr>\n    <tr>\n      <th>1300</th>\n      <td>False</td>\n      <td>False</td>\n      <td>False</td>\n      <td>False</td>\n      <td>False</td>\n      <td>False</td>\n      <td>False</td>\n      <td>False</td>\n      <td>False</td>\n      <td>False</td>\n      <td>False</td>\n      <td>False</td>\n      <td>False</td>\n    </tr>\n    <tr>\n      <th>1301</th>\n      <td>False</td>\n      <td>False</td>\n      <td>False</td>\n      <td>False</td>\n      <td>False</td>\n      <td>False</td>\n      <td>False</td>\n      <td>False</td>\n      <td>False</td>\n      <td>False</td>\n      <td>False</td>\n      <td>False</td>\n      <td>False</td>\n    </tr>\n    <tr>\n      <th>1302</th>\n      <td>False</td>\n      <td>False</td>\n      <td>False</td>\n      <td>False</td>\n      <td>False</td>\n      <td>False</td>\n      <td>False</td>\n      <td>False</td>\n      <td>False</td>\n      <td>False</td>\n      <td>False</td>\n      <td>False</td>\n      <td>False</td>\n    </tr>\n  </tbody>\n</table>\n<p>1303 rows × 13 columns</p>\n</div>"
     },
     "execution_count": 26,
     "metadata": {},
     "output_type": "execute_result"
    }
   ],
   "source": [
    "df.isna()"
   ],
   "metadata": {
    "collapsed": false
   }
  },
  {
   "cell_type": "code",
   "execution_count": 27,
   "outputs": [
    {
     "data": {
      "text/plain": "laptop_ID           0\nCompany             0\nProduct             0\nTypeName            0\nInches              0\nScreenResolution    0\nCpu                 0\nRam                 0\nMemory              0\nGpu                 0\nOpSys               0\nWeight              0\nPrice_euros         0\ndtype: int64"
     },
     "execution_count": 27,
     "metadata": {},
     "output_type": "execute_result"
    }
   ],
   "source": [
    "df.isna().sum()"
   ],
   "metadata": {
    "collapsed": false
   }
  },
  {
   "cell_type": "markdown",
   "source": [
    "Ответьте на несколько вопросов\n",
    "3.1 Ноутбуков от какой компании больше всего в наборе данных?\n",
    "3.2 Какая минимальная и максимальная стоимость у ноутбуков в данных?\n",
    "3.3 Какой самый дорогой ноутбук в данных?\n",
    "Выведите все характеристики только по этому ноутбуку\n",
    "Если таких ноутбуков несколько, то выводите их всех"
   ],
   "metadata": {
    "collapsed": false
   }
  },
  {
   "cell_type": "code",
   "execution_count": 28,
   "outputs": [
    {
     "data": {
      "text/plain": "      laptop_ID Company                              Product  \\\n0             1   Apple                          MacBook Pro   \n1             2   Apple                          Macbook Air   \n2             3      HP                               250 G6   \n3             4   Apple                          MacBook Pro   \n4             5   Apple                          MacBook Pro   \n...         ...     ...                                  ...   \n1298       1316  Lenovo                       Yoga 500-14ISK   \n1299       1317  Lenovo                       Yoga 900-13ISK   \n1300       1318  Lenovo                   IdeaPad 100S-14IBR   \n1301       1319      HP  15-AC110nv (i7-6500U/6GB/1TB/Radeon   \n1302       1320    Asus  X553SA-XX031T (N3050/4GB/500GB/W10)   \n\n                TypeName  Inches                            ScreenResolution  \\\n0              Ultrabook    13.3          IPS Panel Retina Display 2560x1600   \n1              Ultrabook    13.3                                    1440x900   \n2               Notebook    15.6                           Full HD 1920x1080   \n3              Ultrabook    15.4          IPS Panel Retina Display 2880x1800   \n4              Ultrabook    13.3          IPS Panel Retina Display 2560x1600   \n...                  ...     ...                                         ...   \n1298  2 in 1 Convertible    14.0   IPS Panel Full HD / Touchscreen 1920x1080   \n1299  2 in 1 Convertible    13.3  IPS Panel Quad HD+ / Touchscreen 3200x1800   \n1300            Notebook    14.0                                    1366x768   \n1301            Notebook    15.6                                    1366x768   \n1302            Notebook    15.6                                    1366x768   \n\n                                       Cpu   Ram               Memory  \\\n0                     Intel Core i5 2.3GHz   8GB            128GB SSD   \n1                     Intel Core i5 1.8GHz   8GB  128GB Flash Storage   \n2               Intel Core i5 7200U 2.5GHz   8GB            256GB SSD   \n3                     Intel Core i7 2.7GHz  16GB            512GB SSD   \n4                     Intel Core i5 3.1GHz   8GB            256GB SSD   \n...                                    ...   ...                  ...   \n1298            Intel Core i7 6500U 2.5GHz   4GB            128GB SSD   \n1299            Intel Core i7 6500U 2.5GHz  16GB            512GB SSD   \n1300  Intel Celeron Dual Core N3050 1.6GHz   2GB   64GB Flash Storage   \n1301            Intel Core i7 6500U 2.5GHz   6GB              1TB HDD   \n1302  Intel Celeron Dual Core N3050 1.6GHz   4GB            500GB HDD   \n\n                               Gpu       OpSys  Weight  Price_euros  \n0     Intel Iris Plus Graphics 640       macOS  1.37kg      1339.69  \n1           Intel HD Graphics 6000       macOS  1.34kg       898.94  \n2            Intel HD Graphics 620       No OS  1.86kg       575.00  \n3               AMD Radeon Pro 455       macOS  1.83kg      2537.45  \n4     Intel Iris Plus Graphics 650       macOS  1.37kg      1803.60  \n...                            ...         ...     ...          ...  \n1298         Intel HD Graphics 520  Windows 10   1.8kg       638.00  \n1299         Intel HD Graphics 520  Windows 10   1.3kg      1499.00  \n1300             Intel HD Graphics  Windows 10   1.5kg       229.00  \n1301            AMD Radeon R5 M330  Windows 10  2.19kg       764.00  \n1302             Intel HD Graphics  Windows 10   2.2kg       369.00  \n\n[1303 rows x 13 columns]",
      "text/html": "<div>\n<style scoped>\n    .dataframe tbody tr th:only-of-type {\n        vertical-align: middle;\n    }\n\n    .dataframe tbody tr th {\n        vertical-align: top;\n    }\n\n    .dataframe thead th {\n        text-align: right;\n    }\n</style>\n<table border=\"1\" class=\"dataframe\">\n  <thead>\n    <tr style=\"text-align: right;\">\n      <th></th>\n      <th>laptop_ID</th>\n      <th>Company</th>\n      <th>Product</th>\n      <th>TypeName</th>\n      <th>Inches</th>\n      <th>ScreenResolution</th>\n      <th>Cpu</th>\n      <th>Ram</th>\n      <th>Memory</th>\n      <th>Gpu</th>\n      <th>OpSys</th>\n      <th>Weight</th>\n      <th>Price_euros</th>\n    </tr>\n  </thead>\n  <tbody>\n    <tr>\n      <th>0</th>\n      <td>1</td>\n      <td>Apple</td>\n      <td>MacBook Pro</td>\n      <td>Ultrabook</td>\n      <td>13.3</td>\n      <td>IPS Panel Retina Display 2560x1600</td>\n      <td>Intel Core i5 2.3GHz</td>\n      <td>8GB</td>\n      <td>128GB SSD</td>\n      <td>Intel Iris Plus Graphics 640</td>\n      <td>macOS</td>\n      <td>1.37kg</td>\n      <td>1339.69</td>\n    </tr>\n    <tr>\n      <th>1</th>\n      <td>2</td>\n      <td>Apple</td>\n      <td>Macbook Air</td>\n      <td>Ultrabook</td>\n      <td>13.3</td>\n      <td>1440x900</td>\n      <td>Intel Core i5 1.8GHz</td>\n      <td>8GB</td>\n      <td>128GB Flash Storage</td>\n      <td>Intel HD Graphics 6000</td>\n      <td>macOS</td>\n      <td>1.34kg</td>\n      <td>898.94</td>\n    </tr>\n    <tr>\n      <th>2</th>\n      <td>3</td>\n      <td>HP</td>\n      <td>250 G6</td>\n      <td>Notebook</td>\n      <td>15.6</td>\n      <td>Full HD 1920x1080</td>\n      <td>Intel Core i5 7200U 2.5GHz</td>\n      <td>8GB</td>\n      <td>256GB SSD</td>\n      <td>Intel HD Graphics 620</td>\n      <td>No OS</td>\n      <td>1.86kg</td>\n      <td>575.00</td>\n    </tr>\n    <tr>\n      <th>3</th>\n      <td>4</td>\n      <td>Apple</td>\n      <td>MacBook Pro</td>\n      <td>Ultrabook</td>\n      <td>15.4</td>\n      <td>IPS Panel Retina Display 2880x1800</td>\n      <td>Intel Core i7 2.7GHz</td>\n      <td>16GB</td>\n      <td>512GB SSD</td>\n      <td>AMD Radeon Pro 455</td>\n      <td>macOS</td>\n      <td>1.83kg</td>\n      <td>2537.45</td>\n    </tr>\n    <tr>\n      <th>4</th>\n      <td>5</td>\n      <td>Apple</td>\n      <td>MacBook Pro</td>\n      <td>Ultrabook</td>\n      <td>13.3</td>\n      <td>IPS Panel Retina Display 2560x1600</td>\n      <td>Intel Core i5 3.1GHz</td>\n      <td>8GB</td>\n      <td>256GB SSD</td>\n      <td>Intel Iris Plus Graphics 650</td>\n      <td>macOS</td>\n      <td>1.37kg</td>\n      <td>1803.60</td>\n    </tr>\n    <tr>\n      <th>...</th>\n      <td>...</td>\n      <td>...</td>\n      <td>...</td>\n      <td>...</td>\n      <td>...</td>\n      <td>...</td>\n      <td>...</td>\n      <td>...</td>\n      <td>...</td>\n      <td>...</td>\n      <td>...</td>\n      <td>...</td>\n      <td>...</td>\n    </tr>\n    <tr>\n      <th>1298</th>\n      <td>1316</td>\n      <td>Lenovo</td>\n      <td>Yoga 500-14ISK</td>\n      <td>2 in 1 Convertible</td>\n      <td>14.0</td>\n      <td>IPS Panel Full HD / Touchscreen 1920x1080</td>\n      <td>Intel Core i7 6500U 2.5GHz</td>\n      <td>4GB</td>\n      <td>128GB SSD</td>\n      <td>Intel HD Graphics 520</td>\n      <td>Windows 10</td>\n      <td>1.8kg</td>\n      <td>638.00</td>\n    </tr>\n    <tr>\n      <th>1299</th>\n      <td>1317</td>\n      <td>Lenovo</td>\n      <td>Yoga 900-13ISK</td>\n      <td>2 in 1 Convertible</td>\n      <td>13.3</td>\n      <td>IPS Panel Quad HD+ / Touchscreen 3200x1800</td>\n      <td>Intel Core i7 6500U 2.5GHz</td>\n      <td>16GB</td>\n      <td>512GB SSD</td>\n      <td>Intel HD Graphics 520</td>\n      <td>Windows 10</td>\n      <td>1.3kg</td>\n      <td>1499.00</td>\n    </tr>\n    <tr>\n      <th>1300</th>\n      <td>1318</td>\n      <td>Lenovo</td>\n      <td>IdeaPad 100S-14IBR</td>\n      <td>Notebook</td>\n      <td>14.0</td>\n      <td>1366x768</td>\n      <td>Intel Celeron Dual Core N3050 1.6GHz</td>\n      <td>2GB</td>\n      <td>64GB Flash Storage</td>\n      <td>Intel HD Graphics</td>\n      <td>Windows 10</td>\n      <td>1.5kg</td>\n      <td>229.00</td>\n    </tr>\n    <tr>\n      <th>1301</th>\n      <td>1319</td>\n      <td>HP</td>\n      <td>15-AC110nv (i7-6500U/6GB/1TB/Radeon</td>\n      <td>Notebook</td>\n      <td>15.6</td>\n      <td>1366x768</td>\n      <td>Intel Core i7 6500U 2.5GHz</td>\n      <td>6GB</td>\n      <td>1TB HDD</td>\n      <td>AMD Radeon R5 M330</td>\n      <td>Windows 10</td>\n      <td>2.19kg</td>\n      <td>764.00</td>\n    </tr>\n    <tr>\n      <th>1302</th>\n      <td>1320</td>\n      <td>Asus</td>\n      <td>X553SA-XX031T (N3050/4GB/500GB/W10)</td>\n      <td>Notebook</td>\n      <td>15.6</td>\n      <td>1366x768</td>\n      <td>Intel Celeron Dual Core N3050 1.6GHz</td>\n      <td>4GB</td>\n      <td>500GB HDD</td>\n      <td>Intel HD Graphics</td>\n      <td>Windows 10</td>\n      <td>2.2kg</td>\n      <td>369.00</td>\n    </tr>\n  </tbody>\n</table>\n<p>1303 rows × 13 columns</p>\n</div>"
     },
     "execution_count": 28,
     "metadata": {},
     "output_type": "execute_result"
    }
   ],
   "source": [
    "df"
   ],
   "metadata": {
    "collapsed": false
   }
  },
  {
   "cell_type": "code",
   "execution_count": 29,
   "outputs": [
    {
     "data": {
      "text/plain": "Company    Xiaomi\ndtype: object"
     },
     "execution_count": 29,
     "metadata": {},
     "output_type": "execute_result"
    }
   ],
   "source": [
    "df[['Company']].max()"
   ],
   "metadata": {
    "collapsed": false
   }
  },
  {
   "cell_type": "code",
   "execution_count": 32,
   "outputs": [
    {
     "data": {
      "text/plain": "Dell      297\nLenovo    297\nName: Company, dtype: int64"
     },
     "execution_count": 32,
     "metadata": {},
     "output_type": "execute_result"
    }
   ],
   "source": [
    "df['Company'].value_counts().head(2)"
   ],
   "metadata": {
    "collapsed": false
   }
  },
  {
   "cell_type": "code",
   "execution_count": 33,
   "outputs": [
    {
     "data": {
      "text/plain": "(6099.0, 174.0)"
     },
     "execution_count": 33,
     "metadata": {},
     "output_type": "execute_result"
    }
   ],
   "source": [
    "df['Price_euros'].max(), df['Price_euros'].min()"
   ],
   "metadata": {
    "collapsed": false
   }
  },
  {
   "cell_type": "code",
   "execution_count": 38,
   "outputs": [
    {
     "data": {
      "text/plain": "      laptop_ID Company                               Product     TypeName  \\\n196         200   Razer                             Blade Pro       Gaming   \n830         839   Razer                             Blade Pro       Gaming   \n610         617  Lenovo                          Thinkpad P51     Notebook   \n749         758      HP                              Zbook 17  Workstation   \n1066       1081    Asus                            ROG G701VO       Gaming   \n...         ...     ...                                   ...          ...   \n31           32    Asus  E402WA-GA010T (E2-6110/2GB/32GB/W10)     Notebook   \n290         295    Acer                  Chromebook C910-C2ST     Notebook   \n1120       1135    Vero      V131 (X5-Z8350/4GB/32GB/FHD/W10)     Notebook   \n20           21    Asus                       Vivobook E200HA      Netbook   \n1215       1233    Acer      C740-C9QX (3205U/2GB/32GB/Chrome      Netbook   \n\n      Inches                     ScreenResolution  \\\n196     17.3  4K Ultra HD / Touchscreen 3840x2160   \n830     17.3  4K Ultra HD / Touchscreen 3840x2160   \n610     15.6      IPS Panel 4K Ultra HD 3840x2160   \n749     17.3          IPS Panel Full HD 1920x1080   \n1066    17.3          IPS Panel Full HD 1920x1080   \n...      ...                                  ...   \n31      14.0                             1366x768   \n290     15.6                             1366x768   \n1120    13.3                    Full HD 1920x1080   \n20      11.6                             1366x768   \n1215    11.6                             1366x768   \n\n                                       Cpu   Ram              Memory  \\\n196            Intel Core i7 7820HK 2.9GHz  32GB             1TB SSD   \n830            Intel Core i7 7820HK 2.9GHz  32GB           512GB SSD   \n610          Intel Xeon E3-1535M v6 3.1GHz  32GB             1TB SSD   \n749          Intel Xeon E3-1535M v5 2.9GHz  16GB           256GB SSD   \n1066           Intel Core i7 6820HK 2.7GHz  64GB             1TB SSD   \n...                                    ...   ...                 ...   \n31             AMD E-Series E2-6110 1.5GHz   2GB  32GB Flash Storage   \n290   Intel Celeron Dual Core 3205U 1.5GHz   2GB            16GB SSD   \n1120           Intel Atom X5-Z8350 1.44GHz   4GB  32GB Flash Storage   \n20             Intel Atom x5-Z8350 1.44GHz   2GB  32GB Flash Storage   \n1215  Intel Celeron Dual Core 3205U 1.5GHz   2GB            32GB SSD   \n\n                          Gpu       OpSys  Weight  Price_euros  \n196   Nvidia GeForce GTX 1080  Windows 10  3.49kg       6099.0  \n830   Nvidia GeForce GTX 1080  Windows 10  3.49kg       5499.0  \n610      Nvidia Quadro M2200M  Windows 10   2.5kg       4899.0  \n749      Nvidia Quadro M2000M   Windows 7     3kg       4389.0  \n1066  Nvidia GeForce GTX 980   Windows 10  3.58kg       3975.0  \n...                       ...         ...     ...          ...  \n31              AMD Radeon R2  Windows 10  1.65kg        199.0  \n290         Intel HD Graphics   Chrome OS  2.19kg        199.0  \n1120    Intel HD Graphics 400  Windows 10  1.35kg        196.0  \n20      Intel HD Graphics 400  Windows 10  0.98kg        191.9  \n1215        Intel HD Graphics   Chrome OS   1.3kg        174.0  \n\n[1303 rows x 13 columns]",
      "text/html": "<div>\n<style scoped>\n    .dataframe tbody tr th:only-of-type {\n        vertical-align: middle;\n    }\n\n    .dataframe tbody tr th {\n        vertical-align: top;\n    }\n\n    .dataframe thead th {\n        text-align: right;\n    }\n</style>\n<table border=\"1\" class=\"dataframe\">\n  <thead>\n    <tr style=\"text-align: right;\">\n      <th></th>\n      <th>laptop_ID</th>\n      <th>Company</th>\n      <th>Product</th>\n      <th>TypeName</th>\n      <th>Inches</th>\n      <th>ScreenResolution</th>\n      <th>Cpu</th>\n      <th>Ram</th>\n      <th>Memory</th>\n      <th>Gpu</th>\n      <th>OpSys</th>\n      <th>Weight</th>\n      <th>Price_euros</th>\n    </tr>\n  </thead>\n  <tbody>\n    <tr>\n      <th>196</th>\n      <td>200</td>\n      <td>Razer</td>\n      <td>Blade Pro</td>\n      <td>Gaming</td>\n      <td>17.3</td>\n      <td>4K Ultra HD / Touchscreen 3840x2160</td>\n      <td>Intel Core i7 7820HK 2.9GHz</td>\n      <td>32GB</td>\n      <td>1TB SSD</td>\n      <td>Nvidia GeForce GTX 1080</td>\n      <td>Windows 10</td>\n      <td>3.49kg</td>\n      <td>6099.0</td>\n    </tr>\n    <tr>\n      <th>830</th>\n      <td>839</td>\n      <td>Razer</td>\n      <td>Blade Pro</td>\n      <td>Gaming</td>\n      <td>17.3</td>\n      <td>4K Ultra HD / Touchscreen 3840x2160</td>\n      <td>Intel Core i7 7820HK 2.9GHz</td>\n      <td>32GB</td>\n      <td>512GB SSD</td>\n      <td>Nvidia GeForce GTX 1080</td>\n      <td>Windows 10</td>\n      <td>3.49kg</td>\n      <td>5499.0</td>\n    </tr>\n    <tr>\n      <th>610</th>\n      <td>617</td>\n      <td>Lenovo</td>\n      <td>Thinkpad P51</td>\n      <td>Notebook</td>\n      <td>15.6</td>\n      <td>IPS Panel 4K Ultra HD 3840x2160</td>\n      <td>Intel Xeon E3-1535M v6 3.1GHz</td>\n      <td>32GB</td>\n      <td>1TB SSD</td>\n      <td>Nvidia Quadro M2200M</td>\n      <td>Windows 10</td>\n      <td>2.5kg</td>\n      <td>4899.0</td>\n    </tr>\n    <tr>\n      <th>749</th>\n      <td>758</td>\n      <td>HP</td>\n      <td>Zbook 17</td>\n      <td>Workstation</td>\n      <td>17.3</td>\n      <td>IPS Panel Full HD 1920x1080</td>\n      <td>Intel Xeon E3-1535M v5 2.9GHz</td>\n      <td>16GB</td>\n      <td>256GB SSD</td>\n      <td>Nvidia Quadro M2000M</td>\n      <td>Windows 7</td>\n      <td>3kg</td>\n      <td>4389.0</td>\n    </tr>\n    <tr>\n      <th>1066</th>\n      <td>1081</td>\n      <td>Asus</td>\n      <td>ROG G701VO</td>\n      <td>Gaming</td>\n      <td>17.3</td>\n      <td>IPS Panel Full HD 1920x1080</td>\n      <td>Intel Core i7 6820HK 2.7GHz</td>\n      <td>64GB</td>\n      <td>1TB SSD</td>\n      <td>Nvidia GeForce GTX 980</td>\n      <td>Windows 10</td>\n      <td>3.58kg</td>\n      <td>3975.0</td>\n    </tr>\n    <tr>\n      <th>...</th>\n      <td>...</td>\n      <td>...</td>\n      <td>...</td>\n      <td>...</td>\n      <td>...</td>\n      <td>...</td>\n      <td>...</td>\n      <td>...</td>\n      <td>...</td>\n      <td>...</td>\n      <td>...</td>\n      <td>...</td>\n      <td>...</td>\n    </tr>\n    <tr>\n      <th>31</th>\n      <td>32</td>\n      <td>Asus</td>\n      <td>E402WA-GA010T (E2-6110/2GB/32GB/W10)</td>\n      <td>Notebook</td>\n      <td>14.0</td>\n      <td>1366x768</td>\n      <td>AMD E-Series E2-6110 1.5GHz</td>\n      <td>2GB</td>\n      <td>32GB Flash Storage</td>\n      <td>AMD Radeon R2</td>\n      <td>Windows 10</td>\n      <td>1.65kg</td>\n      <td>199.0</td>\n    </tr>\n    <tr>\n      <th>290</th>\n      <td>295</td>\n      <td>Acer</td>\n      <td>Chromebook C910-C2ST</td>\n      <td>Notebook</td>\n      <td>15.6</td>\n      <td>1366x768</td>\n      <td>Intel Celeron Dual Core 3205U 1.5GHz</td>\n      <td>2GB</td>\n      <td>16GB SSD</td>\n      <td>Intel HD Graphics</td>\n      <td>Chrome OS</td>\n      <td>2.19kg</td>\n      <td>199.0</td>\n    </tr>\n    <tr>\n      <th>1120</th>\n      <td>1135</td>\n      <td>Vero</td>\n      <td>V131 (X5-Z8350/4GB/32GB/FHD/W10)</td>\n      <td>Notebook</td>\n      <td>13.3</td>\n      <td>Full HD 1920x1080</td>\n      <td>Intel Atom X5-Z8350 1.44GHz</td>\n      <td>4GB</td>\n      <td>32GB Flash Storage</td>\n      <td>Intel HD Graphics 400</td>\n      <td>Windows 10</td>\n      <td>1.35kg</td>\n      <td>196.0</td>\n    </tr>\n    <tr>\n      <th>20</th>\n      <td>21</td>\n      <td>Asus</td>\n      <td>Vivobook E200HA</td>\n      <td>Netbook</td>\n      <td>11.6</td>\n      <td>1366x768</td>\n      <td>Intel Atom x5-Z8350 1.44GHz</td>\n      <td>2GB</td>\n      <td>32GB Flash Storage</td>\n      <td>Intel HD Graphics 400</td>\n      <td>Windows 10</td>\n      <td>0.98kg</td>\n      <td>191.9</td>\n    </tr>\n    <tr>\n      <th>1215</th>\n      <td>1233</td>\n      <td>Acer</td>\n      <td>C740-C9QX (3205U/2GB/32GB/Chrome</td>\n      <td>Netbook</td>\n      <td>11.6</td>\n      <td>1366x768</td>\n      <td>Intel Celeron Dual Core 3205U 1.5GHz</td>\n      <td>2GB</td>\n      <td>32GB SSD</td>\n      <td>Intel HD Graphics</td>\n      <td>Chrome OS</td>\n      <td>1.3kg</td>\n      <td>174.0</td>\n    </tr>\n  </tbody>\n</table>\n<p>1303 rows × 13 columns</p>\n</div>"
     },
     "execution_count": 38,
     "metadata": {},
     "output_type": "execute_result"
    }
   ],
   "source": [
    "df.sort_values(['Price_euros', 'Product'], ascending=False)"
   ],
   "metadata": {
    "collapsed": false
   }
  },
  {
   "cell_type": "code",
   "execution_count": 41,
   "outputs": [
    {
     "data": {
      "text/plain": "Product        Zenbook UX510UW-FI095T\nPrice_euros                    6099.0\ndtype: object"
     },
     "execution_count": 41,
     "metadata": {},
     "output_type": "execute_result"
    }
   ],
   "source": [
    "df[['Product', 'Price_euros']].max()"
   ],
   "metadata": {
    "collapsed": false
   }
  },
  {
   "cell_type": "code",
   "execution_count": 43,
   "outputs": [
    {
     "data": {
      "text/plain": "laptop_ID                                           200\nCompany                                           Razer\nProduct                                       Blade Pro\nTypeName                                         Gaming\nInches                                             17.3\nScreenResolution    4K Ultra HD / Touchscreen 3840x2160\nCpu                         Intel Core i7 7820HK 2.9GHz\nRam                                                32GB\nMemory                                          1TB SSD\nGpu                             Nvidia GeForce GTX 1080\nOpSys                                        Windows 10\nWeight                                           3.49kg\nPrice_euros                                      6099.0\nName: 196, dtype: object"
     },
     "execution_count": 43,
     "metadata": {},
     "output_type": "execute_result"
    }
   ],
   "source": [
    "df.sort_values(['Price_euros', 'Product'], ascending=False).iloc[0]\n"
   ],
   "metadata": {
    "collapsed": false
   }
  },
  {
   "cell_type": "code",
   "execution_count": 44,
   "outputs": [
    {
     "data": {
      "text/plain": "     laptop_ID Company    Product TypeName  Inches  \\\n196        200   Razer  Blade Pro   Gaming    17.3   \n\n                        ScreenResolution                          Cpu   Ram  \\\n196  4K Ultra HD / Touchscreen 3840x2160  Intel Core i7 7820HK 2.9GHz  32GB   \n\n      Memory                      Gpu       OpSys  Weight  Price_euros  \n196  1TB SSD  Nvidia GeForce GTX 1080  Windows 10  3.49kg       6099.0  ",
      "text/html": "<div>\n<style scoped>\n    .dataframe tbody tr th:only-of-type {\n        vertical-align: middle;\n    }\n\n    .dataframe tbody tr th {\n        vertical-align: top;\n    }\n\n    .dataframe thead th {\n        text-align: right;\n    }\n</style>\n<table border=\"1\" class=\"dataframe\">\n  <thead>\n    <tr style=\"text-align: right;\">\n      <th></th>\n      <th>laptop_ID</th>\n      <th>Company</th>\n      <th>Product</th>\n      <th>TypeName</th>\n      <th>Inches</th>\n      <th>ScreenResolution</th>\n      <th>Cpu</th>\n      <th>Ram</th>\n      <th>Memory</th>\n      <th>Gpu</th>\n      <th>OpSys</th>\n      <th>Weight</th>\n      <th>Price_euros</th>\n    </tr>\n  </thead>\n  <tbody>\n    <tr>\n      <th>196</th>\n      <td>200</td>\n      <td>Razer</td>\n      <td>Blade Pro</td>\n      <td>Gaming</td>\n      <td>17.3</td>\n      <td>4K Ultra HD / Touchscreen 3840x2160</td>\n      <td>Intel Core i7 7820HK 2.9GHz</td>\n      <td>32GB</td>\n      <td>1TB SSD</td>\n      <td>Nvidia GeForce GTX 1080</td>\n      <td>Windows 10</td>\n      <td>3.49kg</td>\n      <td>6099.0</td>\n    </tr>\n  </tbody>\n</table>\n</div>"
     },
     "execution_count": 44,
     "metadata": {},
     "output_type": "execute_result"
    }
   ],
   "source": [
    "df[df[\"Price_euros\"] == df[\"Price_euros\"].max()]"
   ],
   "metadata": {
    "collapsed": false
   }
  },
  {
   "cell_type": "markdown",
   "source": [
    "Ответьте на несколько вопросов\n",
    "4.1 Найдите ноутбуки с самой маленькой диагональю в данных?\n",
    "Выведите только следующие характеристики:\n",
    "Компания\n",
    "Типа ноутбука\n",
    "Диагональ\n",
    "Стоимость\n",
    "Если таких ноутбуков несколько, то выводите их всех\n",
    "4.2 Сколько стоит самый дорогой ноутбук у компании HP?\n",
    "4.3 Как много ноутбуков Ultrabook с 8GB RAM?\n",
    "Найдите сколько таких ультрабуков с 8GB ОЗУ в процентном соотношении относительно всех ультрабуков"
   ],
   "metadata": {
    "collapsed": false
   }
  },
  {
   "cell_type": "code",
   "execution_count": 45,
   "outputs": [
    {
     "data": {
      "text/plain": "      laptop_ID Company                              Product  \\\n0             1   Apple                          MacBook Pro   \n1             2   Apple                          Macbook Air   \n2             3      HP                               250 G6   \n3             4   Apple                          MacBook Pro   \n4             5   Apple                          MacBook Pro   \n...         ...     ...                                  ...   \n1298       1316  Lenovo                       Yoga 500-14ISK   \n1299       1317  Lenovo                       Yoga 900-13ISK   \n1300       1318  Lenovo                   IdeaPad 100S-14IBR   \n1301       1319      HP  15-AC110nv (i7-6500U/6GB/1TB/Radeon   \n1302       1320    Asus  X553SA-XX031T (N3050/4GB/500GB/W10)   \n\n                TypeName  Inches                            ScreenResolution  \\\n0              Ultrabook    13.3          IPS Panel Retina Display 2560x1600   \n1              Ultrabook    13.3                                    1440x900   \n2               Notebook    15.6                           Full HD 1920x1080   \n3              Ultrabook    15.4          IPS Panel Retina Display 2880x1800   \n4              Ultrabook    13.3          IPS Panel Retina Display 2560x1600   \n...                  ...     ...                                         ...   \n1298  2 in 1 Convertible    14.0   IPS Panel Full HD / Touchscreen 1920x1080   \n1299  2 in 1 Convertible    13.3  IPS Panel Quad HD+ / Touchscreen 3200x1800   \n1300            Notebook    14.0                                    1366x768   \n1301            Notebook    15.6                                    1366x768   \n1302            Notebook    15.6                                    1366x768   \n\n                                       Cpu   Ram               Memory  \\\n0                     Intel Core i5 2.3GHz   8GB            128GB SSD   \n1                     Intel Core i5 1.8GHz   8GB  128GB Flash Storage   \n2               Intel Core i5 7200U 2.5GHz   8GB            256GB SSD   \n3                     Intel Core i7 2.7GHz  16GB            512GB SSD   \n4                     Intel Core i5 3.1GHz   8GB            256GB SSD   \n...                                    ...   ...                  ...   \n1298            Intel Core i7 6500U 2.5GHz   4GB            128GB SSD   \n1299            Intel Core i7 6500U 2.5GHz  16GB            512GB SSD   \n1300  Intel Celeron Dual Core N3050 1.6GHz   2GB   64GB Flash Storage   \n1301            Intel Core i7 6500U 2.5GHz   6GB              1TB HDD   \n1302  Intel Celeron Dual Core N3050 1.6GHz   4GB            500GB HDD   \n\n                               Gpu       OpSys  Weight  Price_euros  \n0     Intel Iris Plus Graphics 640       macOS  1.37kg      1339.69  \n1           Intel HD Graphics 6000       macOS  1.34kg       898.94  \n2            Intel HD Graphics 620       No OS  1.86kg       575.00  \n3               AMD Radeon Pro 455       macOS  1.83kg      2537.45  \n4     Intel Iris Plus Graphics 650       macOS  1.37kg      1803.60  \n...                            ...         ...     ...          ...  \n1298         Intel HD Graphics 520  Windows 10   1.8kg       638.00  \n1299         Intel HD Graphics 520  Windows 10   1.3kg      1499.00  \n1300             Intel HD Graphics  Windows 10   1.5kg       229.00  \n1301            AMD Radeon R5 M330  Windows 10  2.19kg       764.00  \n1302             Intel HD Graphics  Windows 10   2.2kg       369.00  \n\n[1303 rows x 13 columns]",
      "text/html": "<div>\n<style scoped>\n    .dataframe tbody tr th:only-of-type {\n        vertical-align: middle;\n    }\n\n    .dataframe tbody tr th {\n        vertical-align: top;\n    }\n\n    .dataframe thead th {\n        text-align: right;\n    }\n</style>\n<table border=\"1\" class=\"dataframe\">\n  <thead>\n    <tr style=\"text-align: right;\">\n      <th></th>\n      <th>laptop_ID</th>\n      <th>Company</th>\n      <th>Product</th>\n      <th>TypeName</th>\n      <th>Inches</th>\n      <th>ScreenResolution</th>\n      <th>Cpu</th>\n      <th>Ram</th>\n      <th>Memory</th>\n      <th>Gpu</th>\n      <th>OpSys</th>\n      <th>Weight</th>\n      <th>Price_euros</th>\n    </tr>\n  </thead>\n  <tbody>\n    <tr>\n      <th>0</th>\n      <td>1</td>\n      <td>Apple</td>\n      <td>MacBook Pro</td>\n      <td>Ultrabook</td>\n      <td>13.3</td>\n      <td>IPS Panel Retina Display 2560x1600</td>\n      <td>Intel Core i5 2.3GHz</td>\n      <td>8GB</td>\n      <td>128GB SSD</td>\n      <td>Intel Iris Plus Graphics 640</td>\n      <td>macOS</td>\n      <td>1.37kg</td>\n      <td>1339.69</td>\n    </tr>\n    <tr>\n      <th>1</th>\n      <td>2</td>\n      <td>Apple</td>\n      <td>Macbook Air</td>\n      <td>Ultrabook</td>\n      <td>13.3</td>\n      <td>1440x900</td>\n      <td>Intel Core i5 1.8GHz</td>\n      <td>8GB</td>\n      <td>128GB Flash Storage</td>\n      <td>Intel HD Graphics 6000</td>\n      <td>macOS</td>\n      <td>1.34kg</td>\n      <td>898.94</td>\n    </tr>\n    <tr>\n      <th>2</th>\n      <td>3</td>\n      <td>HP</td>\n      <td>250 G6</td>\n      <td>Notebook</td>\n      <td>15.6</td>\n      <td>Full HD 1920x1080</td>\n      <td>Intel Core i5 7200U 2.5GHz</td>\n      <td>8GB</td>\n      <td>256GB SSD</td>\n      <td>Intel HD Graphics 620</td>\n      <td>No OS</td>\n      <td>1.86kg</td>\n      <td>575.00</td>\n    </tr>\n    <tr>\n      <th>3</th>\n      <td>4</td>\n      <td>Apple</td>\n      <td>MacBook Pro</td>\n      <td>Ultrabook</td>\n      <td>15.4</td>\n      <td>IPS Panel Retina Display 2880x1800</td>\n      <td>Intel Core i7 2.7GHz</td>\n      <td>16GB</td>\n      <td>512GB SSD</td>\n      <td>AMD Radeon Pro 455</td>\n      <td>macOS</td>\n      <td>1.83kg</td>\n      <td>2537.45</td>\n    </tr>\n    <tr>\n      <th>4</th>\n      <td>5</td>\n      <td>Apple</td>\n      <td>MacBook Pro</td>\n      <td>Ultrabook</td>\n      <td>13.3</td>\n      <td>IPS Panel Retina Display 2560x1600</td>\n      <td>Intel Core i5 3.1GHz</td>\n      <td>8GB</td>\n      <td>256GB SSD</td>\n      <td>Intel Iris Plus Graphics 650</td>\n      <td>macOS</td>\n      <td>1.37kg</td>\n      <td>1803.60</td>\n    </tr>\n    <tr>\n      <th>...</th>\n      <td>...</td>\n      <td>...</td>\n      <td>...</td>\n      <td>...</td>\n      <td>...</td>\n      <td>...</td>\n      <td>...</td>\n      <td>...</td>\n      <td>...</td>\n      <td>...</td>\n      <td>...</td>\n      <td>...</td>\n      <td>...</td>\n    </tr>\n    <tr>\n      <th>1298</th>\n      <td>1316</td>\n      <td>Lenovo</td>\n      <td>Yoga 500-14ISK</td>\n      <td>2 in 1 Convertible</td>\n      <td>14.0</td>\n      <td>IPS Panel Full HD / Touchscreen 1920x1080</td>\n      <td>Intel Core i7 6500U 2.5GHz</td>\n      <td>4GB</td>\n      <td>128GB SSD</td>\n      <td>Intel HD Graphics 520</td>\n      <td>Windows 10</td>\n      <td>1.8kg</td>\n      <td>638.00</td>\n    </tr>\n    <tr>\n      <th>1299</th>\n      <td>1317</td>\n      <td>Lenovo</td>\n      <td>Yoga 900-13ISK</td>\n      <td>2 in 1 Convertible</td>\n      <td>13.3</td>\n      <td>IPS Panel Quad HD+ / Touchscreen 3200x1800</td>\n      <td>Intel Core i7 6500U 2.5GHz</td>\n      <td>16GB</td>\n      <td>512GB SSD</td>\n      <td>Intel HD Graphics 520</td>\n      <td>Windows 10</td>\n      <td>1.3kg</td>\n      <td>1499.00</td>\n    </tr>\n    <tr>\n      <th>1300</th>\n      <td>1318</td>\n      <td>Lenovo</td>\n      <td>IdeaPad 100S-14IBR</td>\n      <td>Notebook</td>\n      <td>14.0</td>\n      <td>1366x768</td>\n      <td>Intel Celeron Dual Core N3050 1.6GHz</td>\n      <td>2GB</td>\n      <td>64GB Flash Storage</td>\n      <td>Intel HD Graphics</td>\n      <td>Windows 10</td>\n      <td>1.5kg</td>\n      <td>229.00</td>\n    </tr>\n    <tr>\n      <th>1301</th>\n      <td>1319</td>\n      <td>HP</td>\n      <td>15-AC110nv (i7-6500U/6GB/1TB/Radeon</td>\n      <td>Notebook</td>\n      <td>15.6</td>\n      <td>1366x768</td>\n      <td>Intel Core i7 6500U 2.5GHz</td>\n      <td>6GB</td>\n      <td>1TB HDD</td>\n      <td>AMD Radeon R5 M330</td>\n      <td>Windows 10</td>\n      <td>2.19kg</td>\n      <td>764.00</td>\n    </tr>\n    <tr>\n      <th>1302</th>\n      <td>1320</td>\n      <td>Asus</td>\n      <td>X553SA-XX031T (N3050/4GB/500GB/W10)</td>\n      <td>Notebook</td>\n      <td>15.6</td>\n      <td>1366x768</td>\n      <td>Intel Celeron Dual Core N3050 1.6GHz</td>\n      <td>4GB</td>\n      <td>500GB HDD</td>\n      <td>Intel HD Graphics</td>\n      <td>Windows 10</td>\n      <td>2.2kg</td>\n      <td>369.00</td>\n    </tr>\n  </tbody>\n</table>\n<p>1303 rows × 13 columns</p>\n</div>"
     },
     "execution_count": 45,
     "metadata": {},
     "output_type": "execute_result"
    }
   ],
   "source": [
    "df"
   ],
   "metadata": {
    "collapsed": false
   }
  },
  {
   "cell_type": "code",
   "execution_count": 47,
   "outputs": [
    {
     "data": {
      "text/plain": "      laptop_ID Company    Product            TypeName  Inches  \\\n1114       1129  Lenovo  Yoga Book  2 in 1 Convertible    10.1   \n1126       1141  Lenovo  Yoga Book  2 in 1 Convertible    10.1   \n1082       1097  Lenovo  Yoga Book  2 in 1 Convertible    10.1   \n50           51  Lenovo  Yoga Book  2 in 1 Convertible    10.1   \n\n                     ScreenResolution                          Cpu  Ram  \\\n1114  IPS Panel Touchscreen 1920x1200  Intel Atom x5-Z8550 1.44GHz  4GB   \n1126  IPS Panel Touchscreen 1920x1200  Intel Atom x5-Z8550 1.44GHz  4GB   \n1082  IPS Panel Touchscreen 1920x1200  Intel Atom x5-Z8550 1.44GHz  4GB   \n50    IPS Panel Touchscreen 1920x1200  Intel Atom x5-Z8550 1.44GHz  4GB   \n\n                  Memory                    Gpu       OpSys  Weight  \\\n1114  64GB Flash Storage  Intel HD Graphics 400     Android  0.69kg   \n1126  64GB Flash Storage  Intel HD Graphics 400  Windows 10  0.69kg   \n1082  64GB Flash Storage  Intel HD Graphics 400  Windows 10  0.69kg   \n50    64GB Flash Storage  Intel HD Graphics 400     Android  0.69kg   \n\n      Price_euros  \n1114       549.00  \n1126       479.00  \n1082       646.27  \n50         319.00  ",
      "text/html": "<div>\n<style scoped>\n    .dataframe tbody tr th:only-of-type {\n        vertical-align: middle;\n    }\n\n    .dataframe tbody tr th {\n        vertical-align: top;\n    }\n\n    .dataframe thead th {\n        text-align: right;\n    }\n</style>\n<table border=\"1\" class=\"dataframe\">\n  <thead>\n    <tr style=\"text-align: right;\">\n      <th></th>\n      <th>laptop_ID</th>\n      <th>Company</th>\n      <th>Product</th>\n      <th>TypeName</th>\n      <th>Inches</th>\n      <th>ScreenResolution</th>\n      <th>Cpu</th>\n      <th>Ram</th>\n      <th>Memory</th>\n      <th>Gpu</th>\n      <th>OpSys</th>\n      <th>Weight</th>\n      <th>Price_euros</th>\n    </tr>\n  </thead>\n  <tbody>\n    <tr>\n      <th>1114</th>\n      <td>1129</td>\n      <td>Lenovo</td>\n      <td>Yoga Book</td>\n      <td>2 in 1 Convertible</td>\n      <td>10.1</td>\n      <td>IPS Panel Touchscreen 1920x1200</td>\n      <td>Intel Atom x5-Z8550 1.44GHz</td>\n      <td>4GB</td>\n      <td>64GB Flash Storage</td>\n      <td>Intel HD Graphics 400</td>\n      <td>Android</td>\n      <td>0.69kg</td>\n      <td>549.00</td>\n    </tr>\n    <tr>\n      <th>1126</th>\n      <td>1141</td>\n      <td>Lenovo</td>\n      <td>Yoga Book</td>\n      <td>2 in 1 Convertible</td>\n      <td>10.1</td>\n      <td>IPS Panel Touchscreen 1920x1200</td>\n      <td>Intel Atom x5-Z8550 1.44GHz</td>\n      <td>4GB</td>\n      <td>64GB Flash Storage</td>\n      <td>Intel HD Graphics 400</td>\n      <td>Windows 10</td>\n      <td>0.69kg</td>\n      <td>479.00</td>\n    </tr>\n    <tr>\n      <th>1082</th>\n      <td>1097</td>\n      <td>Lenovo</td>\n      <td>Yoga Book</td>\n      <td>2 in 1 Convertible</td>\n      <td>10.1</td>\n      <td>IPS Panel Touchscreen 1920x1200</td>\n      <td>Intel Atom x5-Z8550 1.44GHz</td>\n      <td>4GB</td>\n      <td>64GB Flash Storage</td>\n      <td>Intel HD Graphics 400</td>\n      <td>Windows 10</td>\n      <td>0.69kg</td>\n      <td>646.27</td>\n    </tr>\n    <tr>\n      <th>50</th>\n      <td>51</td>\n      <td>Lenovo</td>\n      <td>Yoga Book</td>\n      <td>2 in 1 Convertible</td>\n      <td>10.1</td>\n      <td>IPS Panel Touchscreen 1920x1200</td>\n      <td>Intel Atom x5-Z8550 1.44GHz</td>\n      <td>4GB</td>\n      <td>64GB Flash Storage</td>\n      <td>Intel HD Graphics 400</td>\n      <td>Android</td>\n      <td>0.69kg</td>\n      <td>319.00</td>\n    </tr>\n  </tbody>\n</table>\n</div>"
     },
     "execution_count": 47,
     "metadata": {},
     "output_type": "execute_result"
    }
   ],
   "source": [
    "df.sort_values(['Inches']).head(4)"
   ],
   "metadata": {
    "collapsed": false
   }
  },
  {
   "cell_type": "code",
   "execution_count": 50,
   "outputs": [
    {
     "data": {
      "text/plain": "     Company            TypeName  Inches  Price_euros\n50    Lenovo  2 in 1 Convertible    10.1       319.00\n1082  Lenovo  2 in 1 Convertible    10.1       646.27\n1114  Lenovo  2 in 1 Convertible    10.1       549.00\n1126  Lenovo  2 in 1 Convertible    10.1       479.00",
      "text/html": "<div>\n<style scoped>\n    .dataframe tbody tr th:only-of-type {\n        vertical-align: middle;\n    }\n\n    .dataframe tbody tr th {\n        vertical-align: top;\n    }\n\n    .dataframe thead th {\n        text-align: right;\n    }\n</style>\n<table border=\"1\" class=\"dataframe\">\n  <thead>\n    <tr style=\"text-align: right;\">\n      <th></th>\n      <th>Company</th>\n      <th>TypeName</th>\n      <th>Inches</th>\n      <th>Price_euros</th>\n    </tr>\n  </thead>\n  <tbody>\n    <tr>\n      <th>50</th>\n      <td>Lenovo</td>\n      <td>2 in 1 Convertible</td>\n      <td>10.1</td>\n      <td>319.00</td>\n    </tr>\n    <tr>\n      <th>1082</th>\n      <td>Lenovo</td>\n      <td>2 in 1 Convertible</td>\n      <td>10.1</td>\n      <td>646.27</td>\n    </tr>\n    <tr>\n      <th>1114</th>\n      <td>Lenovo</td>\n      <td>2 in 1 Convertible</td>\n      <td>10.1</td>\n      <td>549.00</td>\n    </tr>\n    <tr>\n      <th>1126</th>\n      <td>Lenovo</td>\n      <td>2 in 1 Convertible</td>\n      <td>10.1</td>\n      <td>479.00</td>\n    </tr>\n  </tbody>\n</table>\n</div>"
     },
     "execution_count": 50,
     "metadata": {},
     "output_type": "execute_result"
    }
   ],
   "source": [
    "df[df[\"Inches\"] == df[\"Inches\"].min()][['Company', 'TypeName', 'Inches', 'Price_euros']]"
   ],
   "metadata": {
    "collapsed": false
   }
  },
  {
   "cell_type": "code",
   "execution_count": 52,
   "outputs": [
    {
     "data": {
      "text/plain": "laptop_ID                                           200\nCompany                                           Razer\nProduct                                       Blade Pro\nTypeName                                         Gaming\nInches                                             17.3\nScreenResolution    4K Ultra HD / Touchscreen 3840x2160\nCpu                         Intel Core i7 7820HK 2.9GHz\nRam                                                32GB\nMemory                                          1TB SSD\nGpu                             Nvidia GeForce GTX 1080\nOpSys                                        Windows 10\nWeight                                           3.49kg\nPrice_euros                                      6099.0\nName: 196, dtype: object"
     },
     "execution_count": 52,
     "metadata": {},
     "output_type": "execute_result"
    }
   ],
   "source": [
    "df.sort_values(['Price_euros'], ascending=False).iloc[0]"
   ],
   "metadata": {
    "collapsed": false
   }
  },
  {
   "cell_type": "code",
   "execution_count": 56,
   "outputs": [
    {
     "data": {
      "text/plain": "6099.0"
     },
     "execution_count": 56,
     "metadata": {},
     "output_type": "execute_result"
    }
   ],
   "source": [
    "df['Price_euros'].max()"
   ],
   "metadata": {
    "collapsed": false
   }
  },
  {
   "cell_type": "code",
   "execution_count": 58,
   "outputs": [
    {
     "data": {
      "text/plain": "0       1339.69\n1        898.94\n2        575.00\n3       2537.45\n4       1803.60\n         ...   \n1298     638.00\n1299    1499.00\n1300     229.00\n1301     764.00\n1302     369.00\nName: Price_euros, Length: 1303, dtype: float64"
     },
     "execution_count": 58,
     "metadata": {},
     "output_type": "execute_result"
    }
   ],
   "source": [
    "df['Price_euros']"
   ],
   "metadata": {
    "collapsed": false
   }
  },
  {
   "cell_type": "code",
   "execution_count": 57,
   "outputs": [
    {
     "data": {
      "text/plain": "      laptop_ID Company                              Product  \\\n0             1   Apple                          MacBook Pro   \n1             2   Apple                          Macbook Air   \n2             3      HP                               250 G6   \n3             4   Apple                          MacBook Pro   \n4             5   Apple                          MacBook Pro   \n...         ...     ...                                  ...   \n1298       1316  Lenovo                       Yoga 500-14ISK   \n1299       1317  Lenovo                       Yoga 900-13ISK   \n1300       1318  Lenovo                   IdeaPad 100S-14IBR   \n1301       1319      HP  15-AC110nv (i7-6500U/6GB/1TB/Radeon   \n1302       1320    Asus  X553SA-XX031T (N3050/4GB/500GB/W10)   \n\n                TypeName  Inches                            ScreenResolution  \\\n0              Ultrabook    13.3          IPS Panel Retina Display 2560x1600   \n1              Ultrabook    13.3                                    1440x900   \n2               Notebook    15.6                           Full HD 1920x1080   \n3              Ultrabook    15.4          IPS Panel Retina Display 2880x1800   \n4              Ultrabook    13.3          IPS Panel Retina Display 2560x1600   \n...                  ...     ...                                         ...   \n1298  2 in 1 Convertible    14.0   IPS Panel Full HD / Touchscreen 1920x1080   \n1299  2 in 1 Convertible    13.3  IPS Panel Quad HD+ / Touchscreen 3200x1800   \n1300            Notebook    14.0                                    1366x768   \n1301            Notebook    15.6                                    1366x768   \n1302            Notebook    15.6                                    1366x768   \n\n                                       Cpu   Ram               Memory  \\\n0                     Intel Core i5 2.3GHz   8GB            128GB SSD   \n1                     Intel Core i5 1.8GHz   8GB  128GB Flash Storage   \n2               Intel Core i5 7200U 2.5GHz   8GB            256GB SSD   \n3                     Intel Core i7 2.7GHz  16GB            512GB SSD   \n4                     Intel Core i5 3.1GHz   8GB            256GB SSD   \n...                                    ...   ...                  ...   \n1298            Intel Core i7 6500U 2.5GHz   4GB            128GB SSD   \n1299            Intel Core i7 6500U 2.5GHz  16GB            512GB SSD   \n1300  Intel Celeron Dual Core N3050 1.6GHz   2GB   64GB Flash Storage   \n1301            Intel Core i7 6500U 2.5GHz   6GB              1TB HDD   \n1302  Intel Celeron Dual Core N3050 1.6GHz   4GB            500GB HDD   \n\n                               Gpu       OpSys  Weight  Price_euros  \n0     Intel Iris Plus Graphics 640       macOS  1.37kg      1339.69  \n1           Intel HD Graphics 6000       macOS  1.34kg       898.94  \n2            Intel HD Graphics 620       No OS  1.86kg       575.00  \n3               AMD Radeon Pro 455       macOS  1.83kg      2537.45  \n4     Intel Iris Plus Graphics 650       macOS  1.37kg      1803.60  \n...                            ...         ...     ...          ...  \n1298         Intel HD Graphics 520  Windows 10   1.8kg       638.00  \n1299         Intel HD Graphics 520  Windows 10   1.3kg      1499.00  \n1300             Intel HD Graphics  Windows 10   1.5kg       229.00  \n1301            AMD Radeon R5 M330  Windows 10  2.19kg       764.00  \n1302             Intel HD Graphics  Windows 10   2.2kg       369.00  \n\n[1303 rows x 13 columns]",
      "text/html": "<div>\n<style scoped>\n    .dataframe tbody tr th:only-of-type {\n        vertical-align: middle;\n    }\n\n    .dataframe tbody tr th {\n        vertical-align: top;\n    }\n\n    .dataframe thead th {\n        text-align: right;\n    }\n</style>\n<table border=\"1\" class=\"dataframe\">\n  <thead>\n    <tr style=\"text-align: right;\">\n      <th></th>\n      <th>laptop_ID</th>\n      <th>Company</th>\n      <th>Product</th>\n      <th>TypeName</th>\n      <th>Inches</th>\n      <th>ScreenResolution</th>\n      <th>Cpu</th>\n      <th>Ram</th>\n      <th>Memory</th>\n      <th>Gpu</th>\n      <th>OpSys</th>\n      <th>Weight</th>\n      <th>Price_euros</th>\n    </tr>\n  </thead>\n  <tbody>\n    <tr>\n      <th>0</th>\n      <td>1</td>\n      <td>Apple</td>\n      <td>MacBook Pro</td>\n      <td>Ultrabook</td>\n      <td>13.3</td>\n      <td>IPS Panel Retina Display 2560x1600</td>\n      <td>Intel Core i5 2.3GHz</td>\n      <td>8GB</td>\n      <td>128GB SSD</td>\n      <td>Intel Iris Plus Graphics 640</td>\n      <td>macOS</td>\n      <td>1.37kg</td>\n      <td>1339.69</td>\n    </tr>\n    <tr>\n      <th>1</th>\n      <td>2</td>\n      <td>Apple</td>\n      <td>Macbook Air</td>\n      <td>Ultrabook</td>\n      <td>13.3</td>\n      <td>1440x900</td>\n      <td>Intel Core i5 1.8GHz</td>\n      <td>8GB</td>\n      <td>128GB Flash Storage</td>\n      <td>Intel HD Graphics 6000</td>\n      <td>macOS</td>\n      <td>1.34kg</td>\n      <td>898.94</td>\n    </tr>\n    <tr>\n      <th>2</th>\n      <td>3</td>\n      <td>HP</td>\n      <td>250 G6</td>\n      <td>Notebook</td>\n      <td>15.6</td>\n      <td>Full HD 1920x1080</td>\n      <td>Intel Core i5 7200U 2.5GHz</td>\n      <td>8GB</td>\n      <td>256GB SSD</td>\n      <td>Intel HD Graphics 620</td>\n      <td>No OS</td>\n      <td>1.86kg</td>\n      <td>575.00</td>\n    </tr>\n    <tr>\n      <th>3</th>\n      <td>4</td>\n      <td>Apple</td>\n      <td>MacBook Pro</td>\n      <td>Ultrabook</td>\n      <td>15.4</td>\n      <td>IPS Panel Retina Display 2880x1800</td>\n      <td>Intel Core i7 2.7GHz</td>\n      <td>16GB</td>\n      <td>512GB SSD</td>\n      <td>AMD Radeon Pro 455</td>\n      <td>macOS</td>\n      <td>1.83kg</td>\n      <td>2537.45</td>\n    </tr>\n    <tr>\n      <th>4</th>\n      <td>5</td>\n      <td>Apple</td>\n      <td>MacBook Pro</td>\n      <td>Ultrabook</td>\n      <td>13.3</td>\n      <td>IPS Panel Retina Display 2560x1600</td>\n      <td>Intel Core i5 3.1GHz</td>\n      <td>8GB</td>\n      <td>256GB SSD</td>\n      <td>Intel Iris Plus Graphics 650</td>\n      <td>macOS</td>\n      <td>1.37kg</td>\n      <td>1803.60</td>\n    </tr>\n    <tr>\n      <th>...</th>\n      <td>...</td>\n      <td>...</td>\n      <td>...</td>\n      <td>...</td>\n      <td>...</td>\n      <td>...</td>\n      <td>...</td>\n      <td>...</td>\n      <td>...</td>\n      <td>...</td>\n      <td>...</td>\n      <td>...</td>\n      <td>...</td>\n    </tr>\n    <tr>\n      <th>1298</th>\n      <td>1316</td>\n      <td>Lenovo</td>\n      <td>Yoga 500-14ISK</td>\n      <td>2 in 1 Convertible</td>\n      <td>14.0</td>\n      <td>IPS Panel Full HD / Touchscreen 1920x1080</td>\n      <td>Intel Core i7 6500U 2.5GHz</td>\n      <td>4GB</td>\n      <td>128GB SSD</td>\n      <td>Intel HD Graphics 520</td>\n      <td>Windows 10</td>\n      <td>1.8kg</td>\n      <td>638.00</td>\n    </tr>\n    <tr>\n      <th>1299</th>\n      <td>1317</td>\n      <td>Lenovo</td>\n      <td>Yoga 900-13ISK</td>\n      <td>2 in 1 Convertible</td>\n      <td>13.3</td>\n      <td>IPS Panel Quad HD+ / Touchscreen 3200x1800</td>\n      <td>Intel Core i7 6500U 2.5GHz</td>\n      <td>16GB</td>\n      <td>512GB SSD</td>\n      <td>Intel HD Graphics 520</td>\n      <td>Windows 10</td>\n      <td>1.3kg</td>\n      <td>1499.00</td>\n    </tr>\n    <tr>\n      <th>1300</th>\n      <td>1318</td>\n      <td>Lenovo</td>\n      <td>IdeaPad 100S-14IBR</td>\n      <td>Notebook</td>\n      <td>14.0</td>\n      <td>1366x768</td>\n      <td>Intel Celeron Dual Core N3050 1.6GHz</td>\n      <td>2GB</td>\n      <td>64GB Flash Storage</td>\n      <td>Intel HD Graphics</td>\n      <td>Windows 10</td>\n      <td>1.5kg</td>\n      <td>229.00</td>\n    </tr>\n    <tr>\n      <th>1301</th>\n      <td>1319</td>\n      <td>HP</td>\n      <td>15-AC110nv (i7-6500U/6GB/1TB/Radeon</td>\n      <td>Notebook</td>\n      <td>15.6</td>\n      <td>1366x768</td>\n      <td>Intel Core i7 6500U 2.5GHz</td>\n      <td>6GB</td>\n      <td>1TB HDD</td>\n      <td>AMD Radeon R5 M330</td>\n      <td>Windows 10</td>\n      <td>2.19kg</td>\n      <td>764.00</td>\n    </tr>\n    <tr>\n      <th>1302</th>\n      <td>1320</td>\n      <td>Asus</td>\n      <td>X553SA-XX031T (N3050/4GB/500GB/W10)</td>\n      <td>Notebook</td>\n      <td>15.6</td>\n      <td>1366x768</td>\n      <td>Intel Celeron Dual Core N3050 1.6GHz</td>\n      <td>4GB</td>\n      <td>500GB HDD</td>\n      <td>Intel HD Graphics</td>\n      <td>Windows 10</td>\n      <td>2.2kg</td>\n      <td>369.00</td>\n    </tr>\n  </tbody>\n</table>\n<p>1303 rows × 13 columns</p>\n</div>"
     },
     "execution_count": 57,
     "metadata": {},
     "output_type": "execute_result"
    }
   ],
   "source": [
    "df"
   ],
   "metadata": {
    "collapsed": false
   }
  },
  {
   "cell_type": "code",
   "execution_count": 68,
   "outputs": [
    {
     "data": {
      "text/plain": "      laptop_ID Company            Product            TypeName  Inches  \\\n1268       1286      HP   Stream 11-Y000na             Netbook    11.6   \n1296       1314      HP   Stream 11-Y000na             Netbook    11.6   \n1282       1300      HP   Stream 11-Y000na             Netbook    11.6   \n67           69      HP  Stream 14-AX040wm            Notebook    14.0   \n1168       1186      HP  Stream 14-AX000nv            Notebook    14.0   \n...         ...     ...                ...                 ...     ...   \n857         868      HP     EliteBook x360  2 in 1 Convertible    13.3   \n1103       1118      HP           ZBook 17         Workstation    17.3   \n911         924      HP    Elitebook Folio           Ultrabook    12.5   \n1136       1151      HP           ZBook 17         Workstation    17.3   \n749         758      HP           Zbook 17         Workstation    17.3   \n\n                         ScreenResolution  \\\n1268                             1366x768   \n1296                             1366x768   \n1282                             1366x768   \n67                               1366x768   \n1168                             1366x768   \n...                                   ...   \n857       Full HD / Touchscreen 1920x1080   \n1103          IPS Panel Full HD 1920x1080   \n911   4K Ultra HD / Touchscreen 3840x2160   \n1136          IPS Panel Full HD 1920x1080   \n749           IPS Panel Full HD 1920x1080   \n\n                                       Cpu   Ram              Memory  \\\n1268  Intel Celeron Dual Core N3060 1.6GHz   2GB  32GB Flash Storage   \n1296  Intel Celeron Dual Core N3060 1.6GHz   2GB  32GB Flash Storage   \n1282  Intel Celeron Dual Core N3060 1.6GHz   2GB  32GB Flash Storage   \n67    Intel Celeron Dual Core N3060 1.6GHz   4GB            32GB SSD   \n1168  Intel Celeron Dual Core N3060 1.6GHz   2GB  32GB Flash Storage   \n...                                    ...   ...                 ...   \n857             Intel Core i7 7600U 2.8GHz   8GB           256GB SSD   \n1103           Intel Core i7 6700HQ 2.6GHz   8GB             1TB HDD   \n911               Intel Core M 6Y75 1.2GHz   8GB           240GB SSD   \n1136           Intel Core i7 6700HQ 2.6GHz   8GB           256GB SSD   \n749          Intel Xeon E3-1535M v5 2.9GHz  16GB           256GB SSD   \n\n                        Gpu       OpSys  Weight  Price_euros  \n1268  Intel HD Graphics 400  Windows 10  1.17kg        209.0  \n1296  Intel HD Graphics 400  Windows 10  1.17kg        209.0  \n1282  Intel HD Graphics 400  Windows 10  1.17kg        209.0  \n67    Intel HD Graphics 400  Windows 10  1.44kg        229.0  \n1168  Intel HD Graphics 400  Windows 10  1.44kg        249.0  \n...                     ...         ...     ...          ...  \n857   Intel HD Graphics 620  Windows 10  1.28kg       2559.0  \n1103     AMD FirePro W6150M   Windows 7   3.0kg       2899.0  \n911   Intel HD Graphics 515  Windows 10  1.09kg       3100.0  \n1136   Nvidia Quadro M3000M   Windows 7     3kg       3949.4  \n749    Nvidia Quadro M2000M   Windows 7     3kg       4389.0  \n\n[274 rows x 13 columns]",
      "text/html": "<div>\n<style scoped>\n    .dataframe tbody tr th:only-of-type {\n        vertical-align: middle;\n    }\n\n    .dataframe tbody tr th {\n        vertical-align: top;\n    }\n\n    .dataframe thead th {\n        text-align: right;\n    }\n</style>\n<table border=\"1\" class=\"dataframe\">\n  <thead>\n    <tr style=\"text-align: right;\">\n      <th></th>\n      <th>laptop_ID</th>\n      <th>Company</th>\n      <th>Product</th>\n      <th>TypeName</th>\n      <th>Inches</th>\n      <th>ScreenResolution</th>\n      <th>Cpu</th>\n      <th>Ram</th>\n      <th>Memory</th>\n      <th>Gpu</th>\n      <th>OpSys</th>\n      <th>Weight</th>\n      <th>Price_euros</th>\n    </tr>\n  </thead>\n  <tbody>\n    <tr>\n      <th>1268</th>\n      <td>1286</td>\n      <td>HP</td>\n      <td>Stream 11-Y000na</td>\n      <td>Netbook</td>\n      <td>11.6</td>\n      <td>1366x768</td>\n      <td>Intel Celeron Dual Core N3060 1.6GHz</td>\n      <td>2GB</td>\n      <td>32GB Flash Storage</td>\n      <td>Intel HD Graphics 400</td>\n      <td>Windows 10</td>\n      <td>1.17kg</td>\n      <td>209.0</td>\n    </tr>\n    <tr>\n      <th>1296</th>\n      <td>1314</td>\n      <td>HP</td>\n      <td>Stream 11-Y000na</td>\n      <td>Netbook</td>\n      <td>11.6</td>\n      <td>1366x768</td>\n      <td>Intel Celeron Dual Core N3060 1.6GHz</td>\n      <td>2GB</td>\n      <td>32GB Flash Storage</td>\n      <td>Intel HD Graphics 400</td>\n      <td>Windows 10</td>\n      <td>1.17kg</td>\n      <td>209.0</td>\n    </tr>\n    <tr>\n      <th>1282</th>\n      <td>1300</td>\n      <td>HP</td>\n      <td>Stream 11-Y000na</td>\n      <td>Netbook</td>\n      <td>11.6</td>\n      <td>1366x768</td>\n      <td>Intel Celeron Dual Core N3060 1.6GHz</td>\n      <td>2GB</td>\n      <td>32GB Flash Storage</td>\n      <td>Intel HD Graphics 400</td>\n      <td>Windows 10</td>\n      <td>1.17kg</td>\n      <td>209.0</td>\n    </tr>\n    <tr>\n      <th>67</th>\n      <td>69</td>\n      <td>HP</td>\n      <td>Stream 14-AX040wm</td>\n      <td>Notebook</td>\n      <td>14.0</td>\n      <td>1366x768</td>\n      <td>Intel Celeron Dual Core N3060 1.6GHz</td>\n      <td>4GB</td>\n      <td>32GB SSD</td>\n      <td>Intel HD Graphics 400</td>\n      <td>Windows 10</td>\n      <td>1.44kg</td>\n      <td>229.0</td>\n    </tr>\n    <tr>\n      <th>1168</th>\n      <td>1186</td>\n      <td>HP</td>\n      <td>Stream 14-AX000nv</td>\n      <td>Notebook</td>\n      <td>14.0</td>\n      <td>1366x768</td>\n      <td>Intel Celeron Dual Core N3060 1.6GHz</td>\n      <td>2GB</td>\n      <td>32GB Flash Storage</td>\n      <td>Intel HD Graphics 400</td>\n      <td>Windows 10</td>\n      <td>1.44kg</td>\n      <td>249.0</td>\n    </tr>\n    <tr>\n      <th>...</th>\n      <td>...</td>\n      <td>...</td>\n      <td>...</td>\n      <td>...</td>\n      <td>...</td>\n      <td>...</td>\n      <td>...</td>\n      <td>...</td>\n      <td>...</td>\n      <td>...</td>\n      <td>...</td>\n      <td>...</td>\n      <td>...</td>\n    </tr>\n    <tr>\n      <th>857</th>\n      <td>868</td>\n      <td>HP</td>\n      <td>EliteBook x360</td>\n      <td>2 in 1 Convertible</td>\n      <td>13.3</td>\n      <td>Full HD / Touchscreen 1920x1080</td>\n      <td>Intel Core i7 7600U 2.8GHz</td>\n      <td>8GB</td>\n      <td>256GB SSD</td>\n      <td>Intel HD Graphics 620</td>\n      <td>Windows 10</td>\n      <td>1.28kg</td>\n      <td>2559.0</td>\n    </tr>\n    <tr>\n      <th>1103</th>\n      <td>1118</td>\n      <td>HP</td>\n      <td>ZBook 17</td>\n      <td>Workstation</td>\n      <td>17.3</td>\n      <td>IPS Panel Full HD 1920x1080</td>\n      <td>Intel Core i7 6700HQ 2.6GHz</td>\n      <td>8GB</td>\n      <td>1TB HDD</td>\n      <td>AMD FirePro W6150M</td>\n      <td>Windows 7</td>\n      <td>3.0kg</td>\n      <td>2899.0</td>\n    </tr>\n    <tr>\n      <th>911</th>\n      <td>924</td>\n      <td>HP</td>\n      <td>Elitebook Folio</td>\n      <td>Ultrabook</td>\n      <td>12.5</td>\n      <td>4K Ultra HD / Touchscreen 3840x2160</td>\n      <td>Intel Core M 6Y75 1.2GHz</td>\n      <td>8GB</td>\n      <td>240GB SSD</td>\n      <td>Intel HD Graphics 515</td>\n      <td>Windows 10</td>\n      <td>1.09kg</td>\n      <td>3100.0</td>\n    </tr>\n    <tr>\n      <th>1136</th>\n      <td>1151</td>\n      <td>HP</td>\n      <td>ZBook 17</td>\n      <td>Workstation</td>\n      <td>17.3</td>\n      <td>IPS Panel Full HD 1920x1080</td>\n      <td>Intel Core i7 6700HQ 2.6GHz</td>\n      <td>8GB</td>\n      <td>256GB SSD</td>\n      <td>Nvidia Quadro M3000M</td>\n      <td>Windows 7</td>\n      <td>3kg</td>\n      <td>3949.4</td>\n    </tr>\n    <tr>\n      <th>749</th>\n      <td>758</td>\n      <td>HP</td>\n      <td>Zbook 17</td>\n      <td>Workstation</td>\n      <td>17.3</td>\n      <td>IPS Panel Full HD 1920x1080</td>\n      <td>Intel Xeon E3-1535M v5 2.9GHz</td>\n      <td>16GB</td>\n      <td>256GB SSD</td>\n      <td>Nvidia Quadro M2000M</td>\n      <td>Windows 7</td>\n      <td>3kg</td>\n      <td>4389.0</td>\n    </tr>\n  </tbody>\n</table>\n<p>274 rows × 13 columns</p>\n</div>"
     },
     "execution_count": 68,
     "metadata": {},
     "output_type": "execute_result"
    }
   ],
   "source": [
    "df_HP = df[df['Company'] == 'HP']\n",
    "df_HP.sort_values('Price_euros')"
   ],
   "metadata": {
    "collapsed": false
   }
  },
  {
   "cell_type": "code",
   "execution_count": 67,
   "outputs": [
    {
     "data": {
      "text/plain": "4389.0"
     },
     "execution_count": 67,
     "metadata": {},
     "output_type": "execute_result"
    }
   ],
   "source": [
    "df[df['Company'] == 'HP']['Price_euros'].max()"
   ],
   "metadata": {
    "collapsed": false
   }
  },
  {
   "cell_type": "markdown",
   "source": [
    "4.3 Как много ноутбуков Ultrabook с 8GB RAM?\n",
    "Найдите сколько таких ультрабуков с 8GB ОЗУ в процентном соотношении относительно всех ультрабуков"
   ],
   "metadata": {
    "collapsed": false
   }
  },
  {
   "cell_type": "code",
   "execution_count": 66,
   "outputs": [
    {
     "data": {
      "text/plain": "laptop_ID                                     758\nCompany                                        HP\nProduct                                  Zbook 17\nTypeName                              Workstation\nInches                                       17.3\nScreenResolution      IPS Panel Full HD 1920x1080\nCpu                 Intel Xeon E3-1535M v5 2.9GHz\nRam                                          16GB\nMemory                                  256GB SSD\nGpu                          Nvidia Quadro M2000M\nOpSys                                   Windows 7\nWeight                                        3kg\nPrice_euros                                4389.0\nName: 749, dtype: object"
     },
     "execution_count": 66,
     "metadata": {},
     "output_type": "execute_result"
    }
   ],
   "source": [
    "df.iloc[749]"
   ],
   "metadata": {
    "collapsed": false
   }
  },
  {
   "cell_type": "code",
   "execution_count": 71,
   "outputs": [
    {
     "data": {
      "text/plain": "      laptop_ID Company               Product   TypeName  Inches  \\\n0             1   Apple           MacBook Pro  Ultrabook    13.3   \n1             2   Apple           Macbook Air  Ultrabook    13.3   \n3             4   Apple           MacBook Pro  Ultrabook    15.4   \n4             5   Apple           MacBook Pro  Ultrabook    13.3   \n6             7   Apple           MacBook Pro  Ultrabook    15.4   \n...         ...     ...                   ...        ...     ...   \n1236       1254      HP         EliteBook 840  Ultrabook    14.0   \n1241       1259    Asus  ZenBook UX310UA-WB71  Ultrabook    13.3   \n1261       1279    Asus  ZenBook UX305CA-UBM1  Ultrabook    13.3   \n1275       1293    Asus  ZenBook UX305CA-UBM1  Ultrabook    13.3   \n1289       1307    Asus  ZenBook UX305CA-UBM1  Ultrabook    13.3   \n\n                        ScreenResolution                         Cpu   Ram  \\\n0     IPS Panel Retina Display 2560x1600        Intel Core i5 2.3GHz   8GB   \n1                               1440x900        Intel Core i5 1.8GHz   8GB   \n3     IPS Panel Retina Display 2880x1800        Intel Core i7 2.7GHz  16GB   \n4     IPS Panel Retina Display 2560x1600        Intel Core i5 3.1GHz   8GB   \n6     IPS Panel Retina Display 2880x1800        Intel Core i7 2.2GHz  16GB   \n...                                  ...                         ...   ...   \n1236                           2560x1440  Intel Core i7 6500U 2.5GHz   8GB   \n1241                   Full HD 1920x1080  Intel Core i7 6500U 2.5GHz   8GB   \n1261         IPS Panel Full HD 1920x1080    Intel Core M 6Y30 0.9GHz   8GB   \n1275         IPS Panel Full HD 1920x1080    Intel Core M 6Y30 0.9GHz   8GB   \n1289         IPS Panel Full HD 1920x1080    Intel Core M 6Y30 0.9GHz   8GB   \n\n                   Memory                           Gpu       OpSys  Weight  \\\n0               128GB SSD  Intel Iris Plus Graphics 640       macOS  1.37kg   \n1     128GB Flash Storage        Intel HD Graphics 6000       macOS  1.34kg   \n3               512GB SSD            AMD Radeon Pro 455       macOS  1.83kg   \n4               256GB SSD  Intel Iris Plus Graphics 650       macOS  1.37kg   \n6     256GB Flash Storage       Intel Iris Pro Graphics    Mac OS X  2.04kg   \n...                   ...                           ...         ...     ...   \n1236            256GB SSD         Intel HD Graphics 520   Windows 7  1.54kg   \n1241            256GB SSD         Intel HD Graphics 520  Windows 10  1.45kg   \n1261            512GB SSD         Intel HD Graphics 515  Windows 10   1.2kg   \n1275            512GB SSD         Intel HD Graphics 515  Windows 10   1.2kg   \n1289            512GB SSD         Intel HD Graphics 515  Windows 10   1.2kg   \n\n      Price_euros  \n0         1339.69  \n1          898.94  \n3         2537.45  \n4         1803.60  \n6         2139.97  \n...           ...  \n1236      2198.19  \n1241      1280.00  \n1261       729.00  \n1275       729.00  \n1289       729.00  \n\n[196 rows x 13 columns]",
      "text/html": "<div>\n<style scoped>\n    .dataframe tbody tr th:only-of-type {\n        vertical-align: middle;\n    }\n\n    .dataframe tbody tr th {\n        vertical-align: top;\n    }\n\n    .dataframe thead th {\n        text-align: right;\n    }\n</style>\n<table border=\"1\" class=\"dataframe\">\n  <thead>\n    <tr style=\"text-align: right;\">\n      <th></th>\n      <th>laptop_ID</th>\n      <th>Company</th>\n      <th>Product</th>\n      <th>TypeName</th>\n      <th>Inches</th>\n      <th>ScreenResolution</th>\n      <th>Cpu</th>\n      <th>Ram</th>\n      <th>Memory</th>\n      <th>Gpu</th>\n      <th>OpSys</th>\n      <th>Weight</th>\n      <th>Price_euros</th>\n    </tr>\n  </thead>\n  <tbody>\n    <tr>\n      <th>0</th>\n      <td>1</td>\n      <td>Apple</td>\n      <td>MacBook Pro</td>\n      <td>Ultrabook</td>\n      <td>13.3</td>\n      <td>IPS Panel Retina Display 2560x1600</td>\n      <td>Intel Core i5 2.3GHz</td>\n      <td>8GB</td>\n      <td>128GB SSD</td>\n      <td>Intel Iris Plus Graphics 640</td>\n      <td>macOS</td>\n      <td>1.37kg</td>\n      <td>1339.69</td>\n    </tr>\n    <tr>\n      <th>1</th>\n      <td>2</td>\n      <td>Apple</td>\n      <td>Macbook Air</td>\n      <td>Ultrabook</td>\n      <td>13.3</td>\n      <td>1440x900</td>\n      <td>Intel Core i5 1.8GHz</td>\n      <td>8GB</td>\n      <td>128GB Flash Storage</td>\n      <td>Intel HD Graphics 6000</td>\n      <td>macOS</td>\n      <td>1.34kg</td>\n      <td>898.94</td>\n    </tr>\n    <tr>\n      <th>3</th>\n      <td>4</td>\n      <td>Apple</td>\n      <td>MacBook Pro</td>\n      <td>Ultrabook</td>\n      <td>15.4</td>\n      <td>IPS Panel Retina Display 2880x1800</td>\n      <td>Intel Core i7 2.7GHz</td>\n      <td>16GB</td>\n      <td>512GB SSD</td>\n      <td>AMD Radeon Pro 455</td>\n      <td>macOS</td>\n      <td>1.83kg</td>\n      <td>2537.45</td>\n    </tr>\n    <tr>\n      <th>4</th>\n      <td>5</td>\n      <td>Apple</td>\n      <td>MacBook Pro</td>\n      <td>Ultrabook</td>\n      <td>13.3</td>\n      <td>IPS Panel Retina Display 2560x1600</td>\n      <td>Intel Core i5 3.1GHz</td>\n      <td>8GB</td>\n      <td>256GB SSD</td>\n      <td>Intel Iris Plus Graphics 650</td>\n      <td>macOS</td>\n      <td>1.37kg</td>\n      <td>1803.60</td>\n    </tr>\n    <tr>\n      <th>6</th>\n      <td>7</td>\n      <td>Apple</td>\n      <td>MacBook Pro</td>\n      <td>Ultrabook</td>\n      <td>15.4</td>\n      <td>IPS Panel Retina Display 2880x1800</td>\n      <td>Intel Core i7 2.2GHz</td>\n      <td>16GB</td>\n      <td>256GB Flash Storage</td>\n      <td>Intel Iris Pro Graphics</td>\n      <td>Mac OS X</td>\n      <td>2.04kg</td>\n      <td>2139.97</td>\n    </tr>\n    <tr>\n      <th>...</th>\n      <td>...</td>\n      <td>...</td>\n      <td>...</td>\n      <td>...</td>\n      <td>...</td>\n      <td>...</td>\n      <td>...</td>\n      <td>...</td>\n      <td>...</td>\n      <td>...</td>\n      <td>...</td>\n      <td>...</td>\n      <td>...</td>\n    </tr>\n    <tr>\n      <th>1236</th>\n      <td>1254</td>\n      <td>HP</td>\n      <td>EliteBook 840</td>\n      <td>Ultrabook</td>\n      <td>14.0</td>\n      <td>2560x1440</td>\n      <td>Intel Core i7 6500U 2.5GHz</td>\n      <td>8GB</td>\n      <td>256GB SSD</td>\n      <td>Intel HD Graphics 520</td>\n      <td>Windows 7</td>\n      <td>1.54kg</td>\n      <td>2198.19</td>\n    </tr>\n    <tr>\n      <th>1241</th>\n      <td>1259</td>\n      <td>Asus</td>\n      <td>ZenBook UX310UA-WB71</td>\n      <td>Ultrabook</td>\n      <td>13.3</td>\n      <td>Full HD 1920x1080</td>\n      <td>Intel Core i7 6500U 2.5GHz</td>\n      <td>8GB</td>\n      <td>256GB SSD</td>\n      <td>Intel HD Graphics 520</td>\n      <td>Windows 10</td>\n      <td>1.45kg</td>\n      <td>1280.00</td>\n    </tr>\n    <tr>\n      <th>1261</th>\n      <td>1279</td>\n      <td>Asus</td>\n      <td>ZenBook UX305CA-UBM1</td>\n      <td>Ultrabook</td>\n      <td>13.3</td>\n      <td>IPS Panel Full HD 1920x1080</td>\n      <td>Intel Core M 6Y30 0.9GHz</td>\n      <td>8GB</td>\n      <td>512GB SSD</td>\n      <td>Intel HD Graphics 515</td>\n      <td>Windows 10</td>\n      <td>1.2kg</td>\n      <td>729.00</td>\n    </tr>\n    <tr>\n      <th>1275</th>\n      <td>1293</td>\n      <td>Asus</td>\n      <td>ZenBook UX305CA-UBM1</td>\n      <td>Ultrabook</td>\n      <td>13.3</td>\n      <td>IPS Panel Full HD 1920x1080</td>\n      <td>Intel Core M 6Y30 0.9GHz</td>\n      <td>8GB</td>\n      <td>512GB SSD</td>\n      <td>Intel HD Graphics 515</td>\n      <td>Windows 10</td>\n      <td>1.2kg</td>\n      <td>729.00</td>\n    </tr>\n    <tr>\n      <th>1289</th>\n      <td>1307</td>\n      <td>Asus</td>\n      <td>ZenBook UX305CA-UBM1</td>\n      <td>Ultrabook</td>\n      <td>13.3</td>\n      <td>IPS Panel Full HD 1920x1080</td>\n      <td>Intel Core M 6Y30 0.9GHz</td>\n      <td>8GB</td>\n      <td>512GB SSD</td>\n      <td>Intel HD Graphics 515</td>\n      <td>Windows 10</td>\n      <td>1.2kg</td>\n      <td>729.00</td>\n    </tr>\n  </tbody>\n</table>\n<p>196 rows × 13 columns</p>\n</div>"
     },
     "execution_count": 71,
     "metadata": {},
     "output_type": "execute_result"
    }
   ],
   "source": [
    "df[df['TypeName'] == 'Ultrabook']"
   ],
   "metadata": {
    "collapsed": false
   }
  },
  {
   "cell_type": "code",
   "execution_count": 75,
   "outputs": [
    {
     "data": {
      "text/plain": "      laptop_ID Company               Product   TypeName  Inches  \\\n0             1   Apple           MacBook Pro  Ultrabook    13.3   \n1             2   Apple           Macbook Air  Ultrabook    13.3   \n4             5   Apple           MacBook Pro  Ultrabook    13.3   \n7             8   Apple           Macbook Air  Ultrabook    13.3   \n9            10    Acer               Swift 3  Ultrabook    14.0   \n...         ...     ...                   ...        ...     ...   \n1236       1254      HP         EliteBook 840  Ultrabook    14.0   \n1241       1259    Asus  ZenBook UX310UA-WB71  Ultrabook    13.3   \n1261       1279    Asus  ZenBook UX305CA-UBM1  Ultrabook    13.3   \n1275       1293    Asus  ZenBook UX305CA-UBM1  Ultrabook    13.3   \n1289       1307    Asus  ZenBook UX305CA-UBM1  Ultrabook    13.3   \n\n                        ScreenResolution                         Cpu  Ram  \\\n0     IPS Panel Retina Display 2560x1600        Intel Core i5 2.3GHz  8GB   \n1                               1440x900        Intel Core i5 1.8GHz  8GB   \n4     IPS Panel Retina Display 2560x1600        Intel Core i5 3.1GHz  8GB   \n7                               1440x900        Intel Core i5 1.8GHz  8GB   \n9            IPS Panel Full HD 1920x1080  Intel Core i5 8250U 1.6GHz  8GB   \n...                                  ...                         ...  ...   \n1236                           2560x1440  Intel Core i7 6500U 2.5GHz  8GB   \n1241                   Full HD 1920x1080  Intel Core i7 6500U 2.5GHz  8GB   \n1261         IPS Panel Full HD 1920x1080    Intel Core M 6Y30 0.9GHz  8GB   \n1275         IPS Panel Full HD 1920x1080    Intel Core M 6Y30 0.9GHz  8GB   \n1289         IPS Panel Full HD 1920x1080    Intel Core M 6Y30 0.9GHz  8GB   \n\n                   Memory                           Gpu       OpSys  Weight  \\\n0               128GB SSD  Intel Iris Plus Graphics 640       macOS  1.37kg   \n1     128GB Flash Storage        Intel HD Graphics 6000       macOS  1.34kg   \n4               256GB SSD  Intel Iris Plus Graphics 650       macOS  1.37kg   \n7     256GB Flash Storage        Intel HD Graphics 6000       macOS  1.34kg   \n9               256GB SSD        Intel UHD Graphics 620  Windows 10   1.6kg   \n...                   ...                           ...         ...     ...   \n1236            256GB SSD         Intel HD Graphics 520   Windows 7  1.54kg   \n1241            256GB SSD         Intel HD Graphics 520  Windows 10  1.45kg   \n1261            512GB SSD         Intel HD Graphics 515  Windows 10   1.2kg   \n1275            512GB SSD         Intel HD Graphics 515  Windows 10   1.2kg   \n1289            512GB SSD         Intel HD Graphics 515  Windows 10   1.2kg   \n\n      Price_euros  \n0         1339.69  \n1          898.94  \n4         1803.60  \n7         1158.70  \n9          770.00  \n...           ...  \n1236      2198.19  \n1241      1280.00  \n1261       729.00  \n1275       729.00  \n1289       729.00  \n\n[140 rows x 13 columns]",
      "text/html": "<div>\n<style scoped>\n    .dataframe tbody tr th:only-of-type {\n        vertical-align: middle;\n    }\n\n    .dataframe tbody tr th {\n        vertical-align: top;\n    }\n\n    .dataframe thead th {\n        text-align: right;\n    }\n</style>\n<table border=\"1\" class=\"dataframe\">\n  <thead>\n    <tr style=\"text-align: right;\">\n      <th></th>\n      <th>laptop_ID</th>\n      <th>Company</th>\n      <th>Product</th>\n      <th>TypeName</th>\n      <th>Inches</th>\n      <th>ScreenResolution</th>\n      <th>Cpu</th>\n      <th>Ram</th>\n      <th>Memory</th>\n      <th>Gpu</th>\n      <th>OpSys</th>\n      <th>Weight</th>\n      <th>Price_euros</th>\n    </tr>\n  </thead>\n  <tbody>\n    <tr>\n      <th>0</th>\n      <td>1</td>\n      <td>Apple</td>\n      <td>MacBook Pro</td>\n      <td>Ultrabook</td>\n      <td>13.3</td>\n      <td>IPS Panel Retina Display 2560x1600</td>\n      <td>Intel Core i5 2.3GHz</td>\n      <td>8GB</td>\n      <td>128GB SSD</td>\n      <td>Intel Iris Plus Graphics 640</td>\n      <td>macOS</td>\n      <td>1.37kg</td>\n      <td>1339.69</td>\n    </tr>\n    <tr>\n      <th>1</th>\n      <td>2</td>\n      <td>Apple</td>\n      <td>Macbook Air</td>\n      <td>Ultrabook</td>\n      <td>13.3</td>\n      <td>1440x900</td>\n      <td>Intel Core i5 1.8GHz</td>\n      <td>8GB</td>\n      <td>128GB Flash Storage</td>\n      <td>Intel HD Graphics 6000</td>\n      <td>macOS</td>\n      <td>1.34kg</td>\n      <td>898.94</td>\n    </tr>\n    <tr>\n      <th>4</th>\n      <td>5</td>\n      <td>Apple</td>\n      <td>MacBook Pro</td>\n      <td>Ultrabook</td>\n      <td>13.3</td>\n      <td>IPS Panel Retina Display 2560x1600</td>\n      <td>Intel Core i5 3.1GHz</td>\n      <td>8GB</td>\n      <td>256GB SSD</td>\n      <td>Intel Iris Plus Graphics 650</td>\n      <td>macOS</td>\n      <td>1.37kg</td>\n      <td>1803.60</td>\n    </tr>\n    <tr>\n      <th>7</th>\n      <td>8</td>\n      <td>Apple</td>\n      <td>Macbook Air</td>\n      <td>Ultrabook</td>\n      <td>13.3</td>\n      <td>1440x900</td>\n      <td>Intel Core i5 1.8GHz</td>\n      <td>8GB</td>\n      <td>256GB Flash Storage</td>\n      <td>Intel HD Graphics 6000</td>\n      <td>macOS</td>\n      <td>1.34kg</td>\n      <td>1158.70</td>\n    </tr>\n    <tr>\n      <th>9</th>\n      <td>10</td>\n      <td>Acer</td>\n      <td>Swift 3</td>\n      <td>Ultrabook</td>\n      <td>14.0</td>\n      <td>IPS Panel Full HD 1920x1080</td>\n      <td>Intel Core i5 8250U 1.6GHz</td>\n      <td>8GB</td>\n      <td>256GB SSD</td>\n      <td>Intel UHD Graphics 620</td>\n      <td>Windows 10</td>\n      <td>1.6kg</td>\n      <td>770.00</td>\n    </tr>\n    <tr>\n      <th>...</th>\n      <td>...</td>\n      <td>...</td>\n      <td>...</td>\n      <td>...</td>\n      <td>...</td>\n      <td>...</td>\n      <td>...</td>\n      <td>...</td>\n      <td>...</td>\n      <td>...</td>\n      <td>...</td>\n      <td>...</td>\n      <td>...</td>\n    </tr>\n    <tr>\n      <th>1236</th>\n      <td>1254</td>\n      <td>HP</td>\n      <td>EliteBook 840</td>\n      <td>Ultrabook</td>\n      <td>14.0</td>\n      <td>2560x1440</td>\n      <td>Intel Core i7 6500U 2.5GHz</td>\n      <td>8GB</td>\n      <td>256GB SSD</td>\n      <td>Intel HD Graphics 520</td>\n      <td>Windows 7</td>\n      <td>1.54kg</td>\n      <td>2198.19</td>\n    </tr>\n    <tr>\n      <th>1241</th>\n      <td>1259</td>\n      <td>Asus</td>\n      <td>ZenBook UX310UA-WB71</td>\n      <td>Ultrabook</td>\n      <td>13.3</td>\n      <td>Full HD 1920x1080</td>\n      <td>Intel Core i7 6500U 2.5GHz</td>\n      <td>8GB</td>\n      <td>256GB SSD</td>\n      <td>Intel HD Graphics 520</td>\n      <td>Windows 10</td>\n      <td>1.45kg</td>\n      <td>1280.00</td>\n    </tr>\n    <tr>\n      <th>1261</th>\n      <td>1279</td>\n      <td>Asus</td>\n      <td>ZenBook UX305CA-UBM1</td>\n      <td>Ultrabook</td>\n      <td>13.3</td>\n      <td>IPS Panel Full HD 1920x1080</td>\n      <td>Intel Core M 6Y30 0.9GHz</td>\n      <td>8GB</td>\n      <td>512GB SSD</td>\n      <td>Intel HD Graphics 515</td>\n      <td>Windows 10</td>\n      <td>1.2kg</td>\n      <td>729.00</td>\n    </tr>\n    <tr>\n      <th>1275</th>\n      <td>1293</td>\n      <td>Asus</td>\n      <td>ZenBook UX305CA-UBM1</td>\n      <td>Ultrabook</td>\n      <td>13.3</td>\n      <td>IPS Panel Full HD 1920x1080</td>\n      <td>Intel Core M 6Y30 0.9GHz</td>\n      <td>8GB</td>\n      <td>512GB SSD</td>\n      <td>Intel HD Graphics 515</td>\n      <td>Windows 10</td>\n      <td>1.2kg</td>\n      <td>729.00</td>\n    </tr>\n    <tr>\n      <th>1289</th>\n      <td>1307</td>\n      <td>Asus</td>\n      <td>ZenBook UX305CA-UBM1</td>\n      <td>Ultrabook</td>\n      <td>13.3</td>\n      <td>IPS Panel Full HD 1920x1080</td>\n      <td>Intel Core M 6Y30 0.9GHz</td>\n      <td>8GB</td>\n      <td>512GB SSD</td>\n      <td>Intel HD Graphics 515</td>\n      <td>Windows 10</td>\n      <td>1.2kg</td>\n      <td>729.00</td>\n    </tr>\n  </tbody>\n</table>\n<p>140 rows × 13 columns</p>\n</div>"
     },
     "execution_count": 75,
     "metadata": {},
     "output_type": "execute_result"
    }
   ],
   "source": [
    "df[(df['TypeName'] == 'Ultrabook') & (df['Ram'] == '8GB')]"
   ],
   "metadata": {
    "collapsed": false
   }
  },
  {
   "cell_type": "code",
   "execution_count": 76,
   "outputs": [
    {
     "data": {
      "text/plain": "laptop_ID  Company  Product               TypeName   Inches  ScreenResolution                     Cpu                         Ram  Memory     Gpu                           OpSys       Weight  Price_euros\n1          Apple    MacBook Pro           Ultrabook  13.3    IPS Panel Retina Display 2560x1600   Intel Core i5 2.3GHz        8GB  128GB SSD  Intel Iris Plus Graphics 640  macOS       1.37kg  1339.69        0.007143\n924        HP       Elitebook Folio       Ultrabook  12.5    4K Ultra HD / Touchscreen 3840x2160  Intel Core M 6Y75 1.2GHz    8GB  240GB SSD  Intel HD Graphics 515         Windows 10  1.09kg  3100.00        0.007143\n886        Dell     Latitude 7280         Ultrabook  12.5    Full HD 1920x1080                    Intel Core i7 7600U 2.8GHz  8GB  256GB SSD  Intel HD Graphics 620         Windows 10  1.6kg   1690.00        0.007143\n888        Xiaomi   Mi Notebook           Ultrabook  13.3    IPS Panel Full HD 1920x1080          Intel Core i5 6200U 2.3GHz  8GB  256GB SSD  Nvidia GeForce 940MX          Windows 10  1.28kg  935.00         0.007143\n903        Samsung  Notebook 9            Ultrabook  15.0    Full HD 1920x1080                    Intel Core i7 7500U 2.7GHz  8GB  256GB SSD  Intel HD Graphics 620         Windows 10  1.17kg  1699.00        0.007143\n                                                                                                                                                                                                                 ...   \n275        Apple    MacBook Pro           Ultrabook  13.3    IPS Panel Retina Display 2560x1600   Intel Core i5 2.9GHz        8GB  512GB SSD  Intel Iris Graphics 550       macOS       1.37kg  1958.90        0.007143\n260        Dell     Vostro 5370           Ultrabook  13.3    Full HD 1920x1080                    Intel Core i5 8250U 1.6GHz  8GB  256GB SSD  Intel UHD Graphics 620        Windows 10  1.41kg  949.00         0.007143\n254        Apple    MacBook Pro           Ultrabook  13.3    IPS Panel Retina Display 2560x1600   Intel Core i5 3.1GHz        8GB  512GB SSD  Intel Iris Plus Graphics 650  macOS       1.37kg  2040.00        0.007143\n227        Toshiba  Portege Z30-C-16L     Ultrabook  13.3    Full HD 1920x1080                    Intel Core i7 6500U 2.5GHz  8GB  256GB SSD  Intel HD Graphics 520         Windows 10  1.2kg   1363.00        0.007143\n1307       Asus     ZenBook UX305CA-UBM1  Ultrabook  13.3    IPS Panel Full HD 1920x1080          Intel Core M 6Y30 0.9GHz    8GB  512GB SSD  Intel HD Graphics 515         Windows 10  1.2kg   729.00         0.007143\nLength: 140, dtype: float64"
     },
     "execution_count": 76,
     "metadata": {},
     "output_type": "execute_result"
    }
   ],
   "source": [
    "df[(df['TypeName'] == 'Ultrabook') & (df['Ram'] == '8GB')].value_counts(normalize=True)"
   ],
   "metadata": {
    "collapsed": false
   }
  },
  {
   "cell_type": "code",
   "execution_count": 77,
   "outputs": [
    {
     "data": {
      "text/plain": "8GB     0.714286\n16GB    0.183673\n4GB     0.071429\n12GB    0.015306\n24GB    0.005102\n32GB    0.005102\n6GB     0.005102\nName: Ram, dtype: float64"
     },
     "execution_count": 77,
     "metadata": {},
     "output_type": "execute_result"
    }
   ],
   "source": [
    "df_UTB = df[df['TypeName'] == 'Ultrabook']\n",
    "df_UTB['Ram'].value_counts(normalize=True)"
   ],
   "metadata": {
    "collapsed": false
   }
  },
  {
   "cell_type": "code",
   "execution_count": 78,
   "outputs": [
    {
     "data": {
      "text/plain": "140"
     },
     "execution_count": 78,
     "metadata": {},
     "output_type": "execute_result"
    }
   ],
   "source": [
    "df[(df['TypeName'] == 'Ultrabook') & (df['Ram'] == '8GB')].shape[0]"
   ],
   "metadata": {
    "collapsed": false
   }
  },
  {
   "cell_type": "code",
   "execution_count": 80,
   "outputs": [
    {
     "data": {
      "text/plain": "196"
     },
     "execution_count": 80,
     "metadata": {},
     "output_type": "execute_result"
    }
   ],
   "source": [
    "df[df['TypeName'] == 'Ultrabook'].shape[0]"
   ],
   "metadata": {
    "collapsed": false
   }
  },
  {
   "cell_type": "code",
   "execution_count": 82,
   "outputs": [
    {
     "data": {
      "text/plain": "71.42857142857143"
     },
     "execution_count": 82,
     "metadata": {},
     "output_type": "execute_result"
    }
   ],
   "source": [
    "140/196*100"
   ],
   "metadata": {
    "collapsed": false
   }
  },
  {
   "cell_type": "code",
   "execution_count": null,
   "outputs": [],
   "source": [],
   "metadata": {
    "collapsed": false
   }
  }
 ],
 "metadata": {
  "kernelspec": {
   "display_name": "Python 3",
   "language": "python",
   "name": "python3"
  },
  "language_info": {
   "codemirror_mode": {
    "name": "ipython",
    "version": 2
   },
   "file_extension": ".py",
   "mimetype": "text/x-python",
   "name": "python",
   "nbconvert_exporter": "python",
   "pygments_lexer": "ipython2",
   "version": "2.7.6"
  }
 },
 "nbformat": 4,
 "nbformat_minor": 0
}
