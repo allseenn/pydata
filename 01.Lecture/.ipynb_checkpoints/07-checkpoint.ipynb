{
 "cells": [
  {
   "cell_type": "markdown",
   "id": "5dc8af9f",
   "metadata": {},
   "source": [
    "## Горячие клавиши\n",
    "### Edit Mode (press Enter to enable)\n",
    "- Ctrl-A : select all.\n",
    "- Ctrl Home : go to cell start.\n",
    "- Ctrl End : go to cell end.\n",
    "- Ctrl Left : go one word left.\n",
    "- Ctrl Right : go one word right.\n",
    "- Tab : code completion or indent\n",
    "- Shift-Tab : tooltip\n"
   ]
  },
  {
   "cell_type": "code",
   "execution_count": 1,
   "id": "5b1a9103",
   "metadata": {},
   "outputs": [
    {
     "data": {
      "text/plain": [
       "4"
      ]
     },
     "execution_count": 1,
     "metadata": {},
     "output_type": "execute_result"
    }
   ],
   "source": [
    "pow(2,2)"
   ]
  },
  {
   "cell_type": "markdown",
   "id": "25ab7562",
   "metadata": {},
   "source": [
    "- Shift+Tab внитри функции - краткая справка"
   ]
  },
  {
   "cell_type": "code",
   "execution_count": 2,
   "id": "b58137ce",
   "metadata": {},
   "outputs": [
    {
     "data": {
      "text/plain": [
       "8"
      ]
     },
     "execution_count": 2,
     "metadata": {},
     "output_type": "execute_result"
    }
   ],
   "source": [
    "pow(2,3)"
   ]
  },
  {
   "cell_type": "markdown",
   "id": "7ceea5fa",
   "metadata": {},
   "source": [
    "```\n",
    "Signature: pow(base, exp, mod=None)\n",
    "Docstring:\n",
    "Equivalent to base**exp with 2 arguments or base**exp % mod with 3 arguments\n",
    "```"
   ]
  },
  {
   "cell_type": "markdown",
   "id": "20dcd6ba",
   "metadata": {},
   "source": [
    "- ? знак перед функцией без скобок - вызов подробной справки"
   ]
  },
  {
   "cell_type": "code",
   "execution_count": 3,
   "id": "750f3a7c",
   "metadata": {},
   "outputs": [],
   "source": [
    "?pow"
   ]
  },
  {
   "cell_type": "markdown",
   "id": "faabf437",
   "metadata": {},
   "source": [
    "```\n",
    "Signature: pow(base, exp, mod=None)\n",
    "Docstring:\n",
    "Equivalent to base**exp with 2 arguments or base**exp % mod with 3 arguments\n",
    "\n",
    "Some types, such as ints, are able to use a more efficient algorithm when\n",
    "invoked using the three argument form.\n",
    "Type:      builtin_function_or_method\n",
    "```"
   ]
  },
  {
   "cell_type": "markdown",
   "id": "8daec68c",
   "metadata": {},
   "source": [
    "- Ctrl-Z : undo\n",
    "- Ctrl-/ : comment\n",
    "- Ctrl-D : delete whole line"
   ]
  },
  {
   "cell_type": "code",
   "execution_count": 4,
   "id": "c8792b58",
   "metadata": {},
   "outputs": [],
   "source": [
    "value = 3\n",
    "value += 1"
   ]
  },
  {
   "cell_type": "markdown",
   "id": "9c7cb9f3",
   "metadata": {},
   "source": [
    "### Command Mode (press Esc to enable)\n",
    "- Up : select cell above\n",
    "- Down : select cell below\n",
    "- Shift-Enter : run cell, select below\n",
    "- Ctrl-Enter : run selected cells\n",
    "- Alt-Enter : run cell and insert below\n",
    "- A : insert cell above\n",
    "- B : insert cell below\n",
    "- X : cut selected cells\n",
    "- C : copy selected cells\n",
    "- V : paste cells below\n",
    "- F : find and replace"
   ]
  },
  {
   "cell_type": "code",
   "execution_count": 5,
   "id": "3deb7fc8",
   "metadata": {},
   "outputs": [],
   "source": [
    "value = 5\n",
    "value += 1\n",
    "value -= 10"
   ]
  },
  {
   "cell_type": "markdown",
   "id": "8dcba8e5",
   "metadata": {},
   "source": [
    "- Y : change cell to code\n",
    "- M : change cell to markdown\n",
    "- 1 : change cell to heading 1\n",
    "- 2 : change cell to heading 2\n",
    "- 3 : change cell to heading 3\n",
    "- 4 : change cell to heading 4\n",
    "- 5 : change cell to heading 5\n",
    "- 6 : change cell to heading 6\n",
    "- L : toggle line numbers\n",
    "- H : show keyboard shortcuts\n",
    "- I,I : interrupt the kernel\n",
    "- 0,0 : restart the kernel (with dialog)"
   ]
  },
  {
   "cell_type": "code",
   "execution_count": 9,
   "id": "84cfd0b4",
   "metadata": {},
   "outputs": [
    {
     "data": {
      "text/plain": [
       "15"
      ]
     },
     "execution_count": 9,
     "metadata": {},
     "output_type": "execute_result"
    }
   ],
   "source": [
    "a = 12\n",
    "# 3 / 0\n",
    "b = 3\n",
    "a + b"
   ]
  },
  {
   "cell_type": "markdown",
   "id": "3ca0e822",
   "metadata": {},
   "source": [
    "* L - will show line numbers:\n",
    "1. a = 12\n",
    "2. 3 / 0\n",
    "3. b = 3\n",
    "4. a + b\n",
    "- L - press one more - line numbers disapears"
   ]
  },
  {
   "cell_type": "code",
   "execution_count": 8,
   "id": "d7ccd1b3",
   "metadata": {},
   "outputs": [],
   "source": [
    "for i in range(1000000000):\n",
    "    pass"
   ]
  },
  {
   "cell_type": "markdown",
   "id": "de5ce930",
   "metadata": {},
   "source": [
    "- i i - will stop long code"
   ]
  },
  {
   "cell_type": "markdown",
   "id": "44e09c64",
   "metadata": {},
   "source": [
    "### Markdown\n",
    "**Markdown** - облегчённый язык разметки, созданный с целью\n",
    "обозначения форматирования в простом тексте, с максимальным\n",
    "сохранением его читаемости человеком, и пригодный для машинного\n",
    "преобразования в языки для продвинутых публикаций.\n",
    "```\n",
    "**жирный**\n",
    "*курсив*\n",
    "- список\n",
    "* список\n",
    "$ Latex $\n",
    "$$ Latex center $$\n",
    "```"
   ]
  },
  {
   "cell_type": "markdown",
   "id": "f3baf6e8",
   "metadata": {},
   "source": [
    "### HTML\n",
    "**Тэг HTML** - элемент языка разметки. Текст, содержащийся между\n",
    "начальным и конечным тегом, отображается и размещается в\n",
    "соответствии со свойствами, указанными в начальном теге.\n",
    "```\n",
    "<i>курсив</i>\n",
    "<p>text</P>\n",
    "<p>new text line</p>\n",
    "<table>\n",
    "<tr><td>1 column</td<td>2 column</td></tr>\n",
    "<tr><td>1 column</td<td>2 column</td></tr>\n",
    "<table>\n"
   ]
  },
  {
   "cell_type": "markdown",
   "id": "07f7fd3e",
   "metadata": {},
   "source": [
    "### Словари\n",
    "**Словарь** - неупорядоченная структура данных, которая позволяет\n",
    "хранить пары «ключ — значение».\n"
   ]
  },
  {
   "cell_type": "code",
   "execution_count": 10,
   "id": "a6fb69f7",
   "metadata": {},
   "outputs": [
    {
     "data": {
      "text/plain": [
       "{'name': 'John', 'surname': 'Doe', 'age': 32}"
      ]
     },
     "execution_count": 10,
     "metadata": {},
     "output_type": "execute_result"
    }
   ],
   "source": [
    "\n",
    "client_data = {\n",
    "'name': 'John',\n",
    "'surname': 'Doe',\n",
    "'age': 32\n",
    "}\n",
    "client_data\n"
   ]
  },
  {
   "cell_type": "code",
   "execution_count": 11,
   "id": "b2b6f90a",
   "metadata": {},
   "outputs": [
    {
     "data": {
      "text/plain": [
       "'John'"
      ]
     },
     "execution_count": 11,
     "metadata": {},
     "output_type": "execute_result"
    }
   ],
   "source": [
    "client_data['name']"
   ]
  },
  {
   "cell_type": "code",
   "execution_count": 12,
   "id": "808389dc",
   "metadata": {},
   "outputs": [
    {
     "data": {
      "text/plain": [
       "dict_keys(['name', 'surname', 'age'])"
      ]
     },
     "execution_count": 12,
     "metadata": {},
     "output_type": "execute_result"
    }
   ],
   "source": [
    "client_data.keys()"
   ]
  },
  {
   "cell_type": "code",
   "execution_count": 13,
   "id": "965d2685",
   "metadata": {},
   "outputs": [
    {
     "data": {
      "text/plain": [
       "dict_values(['John', 'Doe', 32])"
      ]
     },
     "execution_count": 13,
     "metadata": {},
     "output_type": "execute_result"
    }
   ],
   "source": [
    "client_data.values()"
   ]
  },
  {
   "cell_type": "code",
   "execution_count": 14,
   "id": "00c9c21c",
   "metadata": {},
   "outputs": [
    {
     "data": {
      "text/plain": [
       "dict_items([('name', 'John'), ('surname', 'Doe'), ('age', 32)])"
      ]
     },
     "execution_count": 14,
     "metadata": {},
     "output_type": "execute_result"
    }
   ],
   "source": [
    "client_data.items()"
   ]
  },
  {
   "cell_type": "code",
   "execution_count": 16,
   "id": "2ee0d0db",
   "metadata": {},
   "outputs": [
    {
     "name": "stdout",
     "output_type": "stream",
     "text": [
      "name: John\n",
      "surname: Doe\n",
      "age: 32\n"
     ]
    }
   ],
   "source": [
    "for k, v in client_data.items():\n",
    "    print(f'{k}: {v}')"
   ]
  },
  {
   "cell_type": "code",
   "execution_count": 17,
   "id": "a96dc08e",
   "metadata": {},
   "outputs": [
    {
     "data": {
      "text/plain": [
       "{'name': 'John', 'surname': 'Doe', 'age': 32, 'height': 186}"
      ]
     },
     "execution_count": 17,
     "metadata": {},
     "output_type": "execute_result"
    }
   ],
   "source": [
    "client_data['height'] = 186\n",
    "client_data"
   ]
  },
  {
   "cell_type": "code",
   "execution_count": 18,
   "id": "d6daec81",
   "metadata": {},
   "outputs": [
    {
     "data": {
      "text/plain": [
       "{'name': 'John', 'surname': 'Doe', 'age': 14, 'height': 186}"
      ]
     },
     "execution_count": 18,
     "metadata": {},
     "output_type": "execute_result"
    }
   ],
   "source": [
    "client_data['age'] = 14\n",
    "client_data"
   ]
  },
  {
   "cell_type": "code",
   "execution_count": 19,
   "id": "dd3963b2",
   "metadata": {},
   "outputs": [
    {
     "data": {
      "text/plain": [
       "{'name': 'John', 'surname': 'Doe', 'age': 32}"
      ]
     },
     "execution_count": 19,
     "metadata": {},
     "output_type": "execute_result"
    }
   ],
   "source": [
    "client_data = {\n",
    "'name': 'John',\n",
    "'surname': 'Doe',\n",
    "'age': 32\n",
    "}\n",
    "client_data"
   ]
  },
  {
   "cell_type": "code",
   "execution_count": 20,
   "id": "3eb72f5b",
   "metadata": {},
   "outputs": [
    {
     "data": {
      "text/plain": [
       "32"
      ]
     },
     "execution_count": 20,
     "metadata": {},
     "output_type": "execute_result"
    }
   ],
   "source": [
    "client_data.setdefault('age', 14)"
   ]
  },
  {
   "cell_type": "markdown",
   "id": "89a84277",
   "metadata": {},
   "source": [
    "```\n",
    "client_data.setdefault('age', 14)\n",
    "возвращает 32\n",
    "если age нет, то добавить age:14 \n",
    "```"
   ]
  },
  {
   "cell_type": "code",
   "execution_count": 21,
   "id": "891d060e",
   "metadata": {},
   "outputs": [
    {
     "data": {
      "text/plain": [
       "{'name': 'John', 'surname': 'Doe', 'age': 32}"
      ]
     },
     "execution_count": 21,
     "metadata": {},
     "output_type": "execute_result"
    }
   ],
   "source": [
    "client_data"
   ]
  },
  {
   "cell_type": "code",
   "execution_count": 23,
   "id": "f985ca32",
   "metadata": {},
   "outputs": [
    {
     "data": {
      "text/plain": [
       "{'name': 'John', 'surname': 'Doe', 'age': 14}"
      ]
     },
     "execution_count": 23,
     "metadata": {},
     "output_type": "execute_result"
    }
   ],
   "source": [
    "client_data.update({\n",
    "'age': 14\n",
    "})\n",
    "client_data"
   ]
  },
  {
   "cell_type": "markdown",
   "id": "c1d59632",
   "metadata": {},
   "source": [
    "client_data.update({:})\n",
    "- позволяет дополнять данные словаря или обновлять их (в аргументе должен быть другой словарь)"
   ]
  },
  {
   "cell_type": "code",
   "execution_count": 145,
   "id": "fb521a87",
   "metadata": {},
   "outputs": [],
   "source": [
    "client_data.get(\"SSS\")"
   ]
  },
  {
   "cell_type": "markdown",
   "id": "074ff657",
   "metadata": {},
   "source": [
    "client_data.get()\n",
    "- извлечение значения ключа, без предупреждения, в случаи ошибки, отсутсвтия ключа"
   ]
  },
  {
   "cell_type": "markdown",
   "id": "a7580017",
   "metadata": {},
   "source": [
    "### Вложенные словари\n",
    "**Вложенный словарь** – это словарь, содержащий другие словари."
   ]
  },
  {
   "cell_type": "code",
   "execution_count": 25,
   "id": "11287f13",
   "metadata": {},
   "outputs": [
    {
     "data": {
      "text/plain": [
       "{'name': 'John',\n",
       " 'surname': 'Doe',\n",
       " 'age': 15,\n",
       " 'body': {'weight': 80, 'height': 186}}"
      ]
     },
     "execution_count": 25,
     "metadata": {},
     "output_type": "execute_result"
    }
   ],
   "source": [
    "client_data.update({\n",
    "'age': 15,\n",
    "'body': {\n",
    "'weight': 80,\n",
    "'height': 186\n",
    "}\n",
    "})\n",
    "client_data"
   ]
  },
  {
   "cell_type": "code",
   "execution_count": 26,
   "id": "a23e2f22",
   "metadata": {},
   "outputs": [
    {
     "data": {
      "text/plain": [
       "{'weight': 80, 'height': 186}"
      ]
     },
     "execution_count": 26,
     "metadata": {},
     "output_type": "execute_result"
    }
   ],
   "source": [
    "client_data['body']"
   ]
  },
  {
   "cell_type": "code",
   "execution_count": 27,
   "id": "500e5251",
   "metadata": {},
   "outputs": [
    {
     "data": {
      "text/plain": [
       "186"
      ]
     },
     "execution_count": 27,
     "metadata": {},
     "output_type": "execute_result"
    }
   ],
   "source": [
    "client_data['body']['height']"
   ]
  },
  {
   "cell_type": "markdown",
   "id": "52f9ae26",
   "metadata": {},
   "source": [
    "## Модуль Random\n",
    "Модуль random предоставляет функции для генерации случайных чисел или к примеру,\n",
    "для случайного выбора элементов последовательности. Посмотрим на самые полезные\n",
    "функции"
   ]
  },
  {
   "cell_type": "code",
   "execution_count": 28,
   "id": "db46e3d7",
   "metadata": {},
   "outputs": [
    {
     "data": {
      "text/plain": [
       "9"
      ]
     },
     "execution_count": 28,
     "metadata": {},
     "output_type": "execute_result"
    }
   ],
   "source": [
    "import random\n",
    "random.randint(0, 10)"
   ]
  },
  {
   "cell_type": "code",
   "execution_count": 42,
   "id": "a9dc5593",
   "metadata": {},
   "outputs": [
    {
     "data": {
      "text/plain": [
       "7"
      ]
     },
     "execution_count": 42,
     "metadata": {},
     "output_type": "execute_result"
    }
   ],
   "source": [
    "random.seed(9)\n",
    "random.randint(0, 10)"
   ]
  },
  {
   "cell_type": "markdown",
   "id": "8bc8abe3",
   "metadata": {},
   "source": [
    "random.seed(9)\n",
    "- будет выводиться все время одно и тоже случайное число, на всех компьютерах (типа, фиксированное девятое выполнения алгоритма генерации)"
   ]
  },
  {
   "cell_type": "code",
   "execution_count": 143,
   "id": "d638eb50",
   "metadata": {},
   "outputs": [
    {
     "data": {
      "text/plain": [
       "0.381381822978864"
      ]
     },
     "execution_count": 143,
     "metadata": {},
     "output_type": "execute_result"
    }
   ],
   "source": [
    "random.random()"
   ]
  },
  {
   "cell_type": "markdown",
   "id": "3167a5d2",
   "metadata": {},
   "source": [
    "random.random()\n",
    "- выводит случайное значение нормального распределения до 1"
   ]
  },
  {
   "cell_type": "code",
   "execution_count": 144,
   "id": "2ff538ec",
   "metadata": {},
   "outputs": [
    {
     "data": {
      "text/plain": [
       "5.604346305694418"
      ]
     },
     "execution_count": 144,
     "metadata": {},
     "output_type": "execute_result"
    }
   ],
   "source": [
    "random.uniform(0, 10)"
   ]
  },
  {
   "cell_type": "markdown",
   "id": "44d8f32f",
   "metadata": {},
   "source": [
    "random.uniform(0, 10)\n",
    "- возвращает случайное значение из равномерного распределения"
   ]
  },
  {
   "cell_type": "code",
   "execution_count": 146,
   "id": "3170e3d7",
   "metadata": {},
   "outputs": [
    {
     "data": {
      "text/plain": [
       "['green', 'red']"
      ]
     },
     "execution_count": 146,
     "metadata": {},
     "output_type": "execute_result"
    }
   ],
   "source": [
    "a = ['black', 'red', 'yellow', 'green']\n",
    "random.sample(a, 2)"
   ]
  },
  {
   "cell_type": "markdown",
   "id": "d8f8c4ef",
   "metadata": {},
   "source": [
    "random.sample()\n",
    "- возвращает нужное количество элементов случайно из списка"
   ]
  },
  {
   "cell_type": "code",
   "execution_count": 147,
   "id": "95090548",
   "metadata": {},
   "outputs": [
    {
     "data": {
      "text/plain": [
       "['red', 'black', 'green', 'yellow']"
      ]
     },
     "execution_count": 147,
     "metadata": {},
     "output_type": "execute_result"
    }
   ],
   "source": [
    "random.shuffle(a)\n",
    "a"
   ]
  },
  {
   "cell_type": "markdown",
   "id": "7a995c27",
   "metadata": {},
   "source": [
    "random.shuffle(a)\n",
    "- перемешивает список"
   ]
  },
  {
   "cell_type": "markdown",
   "id": "6e6d770c",
   "metadata": {},
   "source": [
    "## Функции\n",
    "**Функция в python** - объект, который принимает аргументы, производит\n",
    "с ними желаемые действия и возвращает значение. Также функция — это\n",
    "фрагмент программного кода, который решает какую-либо задачу. Его\n",
    "можно вызывать в любом месте основной программы. Функции помогают\n",
    "избегать дублирования кода при многократном его использовании.\n",
    "**Аргумент функции** — значение, которое передается в функцию при её\n",
    "вызове"
   ]
  },
  {
   "cell_type": "code",
   "execution_count": 148,
   "id": "8a8f4036",
   "metadata": {},
   "outputs": [],
   "source": [
    "def func(arg1, arg2):\n",
    "    # make magic\n",
    "    result = arg1 + arg2\n",
    "    return result"
   ]
  },
  {
   "cell_type": "markdown",
   "id": "6eb12177",
   "metadata": {},
   "source": [
    "### Аргументы по позиции и имени\n",
    "**Позиционный аргумент** - это аргумент, передаваемый в функцию в\n",
    "определенной последовательности (на определенных позициях), без\n",
    "указания их имен"
   ]
  },
  {
   "cell_type": "code",
   "execution_count": 150,
   "id": "638e1582",
   "metadata": {},
   "outputs": [
    {
     "name": "stdout",
     "output_type": "stream",
     "text": [
      "a is 3\n",
      "b is 5\n"
     ]
    },
    {
     "data": {
      "text/plain": [
       "8"
      ]
     },
     "execution_count": 150,
     "metadata": {},
     "output_type": "execute_result"
    }
   ],
   "source": [
    "def calc_sum(a, b):\n",
    "    print(f'a is {a}')\n",
    "    print(f'b is {b}')\n",
    "    result = a + b\n",
    "    return result\n",
    "\n",
    "calc_sum(3, 5)"
   ]
  },
  {
   "cell_type": "markdown",
   "id": "27b9bebf",
   "metadata": {},
   "source": [
    "**Именованный аргумент** - это аргумент, передаваемые в функцию при\n",
    "помощи имени"
   ]
  },
  {
   "cell_type": "code",
   "execution_count": 152,
   "id": "ab3fcd74",
   "metadata": {},
   "outputs": [
    {
     "name": "stdout",
     "output_type": "stream",
     "text": [
      "a is 3\n",
      "b is 5\n"
     ]
    },
    {
     "data": {
      "text/plain": [
       "8"
      ]
     },
     "execution_count": 152,
     "metadata": {},
     "output_type": "execute_result"
    }
   ],
   "source": [
    "calc_sum(a=3, b=5)"
   ]
  },
  {
   "cell_type": "code",
   "execution_count": 153,
   "id": "fdc81e0e",
   "metadata": {},
   "outputs": [
    {
     "name": "stdout",
     "output_type": "stream",
     "text": [
      "a is 3\n",
      "b is 5\n"
     ]
    },
    {
     "data": {
      "text/plain": [
       "8"
      ]
     },
     "execution_count": 153,
     "metadata": {},
     "output_type": "execute_result"
    }
   ],
   "source": [
    "calc_sum(b=5, a=3)"
   ]
  },
  {
   "cell_type": "markdown",
   "id": "3d2ad36e",
   "metadata": {},
   "source": [
    " calc_sum(b=5, 3) - нельзя ставить позиционный аргументы, после именнованных\n",
    " - перед можно - сначала позиционные, потом именованные:"
   ]
  },
  {
   "cell_type": "code",
   "execution_count": 154,
   "id": "f50eb68b",
   "metadata": {},
   "outputs": [
    {
     "name": "stdout",
     "output_type": "stream",
     "text": [
      "a is 3\n",
      "b is 5\n"
     ]
    },
    {
     "data": {
      "text/plain": [
       "8"
      ]
     },
     "execution_count": 154,
     "metadata": {},
     "output_type": "execute_result"
    }
   ],
   "source": [
    "calc_sum(3, b=5)"
   ]
  },
  {
   "cell_type": "markdown",
   "id": "79fe6835",
   "metadata": {},
   "source": [
    "### Аргументы по умолчанию\n",
    "В функцию можно передавать аргументы по умолчанию, это те аргументы, значения\n",
    "которых будут использованы, если не передали им явное значение при вызове."
   ]
  },
  {
   "cell_type": "code",
   "execution_count": 155,
   "id": "798a7791",
   "metadata": {},
   "outputs": [
    {
     "data": {
      "text/plain": [
       "'Hello, World'"
      ]
     },
     "execution_count": 155,
     "metadata": {},
     "output_type": "execute_result"
    }
   ],
   "source": [
    "def say_hi(greeting='Hello', name='World'):\n",
    "    return f'{greeting}, {name}'\n",
    "\n",
    "say_hi()"
   ]
  },
  {
   "cell_type": "code",
   "execution_count": 156,
   "id": "3841aa8c",
   "metadata": {},
   "outputs": [
    {
     "data": {
      "text/plain": [
       "'Hey, Apple'"
      ]
     },
     "execution_count": 156,
     "metadata": {},
     "output_type": "execute_result"
    }
   ],
   "source": [
    "say_hi(greeting='Hey', name='Apple')"
   ]
  },
  {
   "cell_type": "markdown",
   "id": "e2c24d22",
   "metadata": {},
   "source": [
    "### Аргумент *args\n",
    "- *args — это сокращение от «arguments» (аргументы)."
   ]
  },
  {
   "cell_type": "code",
   "execution_count": 157,
   "id": "36f1b26b",
   "metadata": {},
   "outputs": [],
   "source": [
    "def calc_sum(a, b, c, d, e):\n",
    "    result = a + b + c + d + e\n",
    "    return result"
   ]
  },
  {
   "cell_type": "code",
   "execution_count": 158,
   "id": "e37d72fb",
   "metadata": {},
   "outputs": [],
   "source": [
    "def calc_sum(*args):\n",
    "    result = sum(args)\n",
    "    return result"
   ]
  },
  {
   "cell_type": "code",
   "execution_count": 159,
   "id": "2c96efb8",
   "metadata": {},
   "outputs": [
    {
     "data": {
      "text/plain": [
       "1"
      ]
     },
     "execution_count": 159,
     "metadata": {},
     "output_type": "execute_result"
    }
   ],
   "source": [
    "calc_sum(1)"
   ]
  },
  {
   "cell_type": "code",
   "execution_count": 160,
   "id": "c10f9feb",
   "metadata": {},
   "outputs": [
    {
     "data": {
      "text/plain": [
       "15"
      ]
     },
     "execution_count": 160,
     "metadata": {},
     "output_type": "execute_result"
    }
   ],
   "source": [
    "calc_sum(10, 0, 5)"
   ]
  },
  {
   "cell_type": "code",
   "execution_count": 161,
   "id": "c5dc724a",
   "metadata": {},
   "outputs": [
    {
     "name": "stdout",
     "output_type": "stream",
     "text": [
      "(1, 2, 3)\n",
      "<class 'tuple'>\n"
     ]
    },
    {
     "data": {
      "text/plain": [
       "6"
      ]
     },
     "execution_count": 161,
     "metadata": {},
     "output_type": "execute_result"
    }
   ],
   "source": [
    "def calc_sum(*args):\n",
    "    print(args)\n",
    "    print(type(args))\n",
    "    result = sum(args)\n",
    "    return result\n",
    "\n",
    "\n",
    "calc_sum(1, 2, 3)"
   ]
  },
  {
   "cell_type": "code",
   "execution_count": 162,
   "id": "3a419ed9",
   "metadata": {},
   "outputs": [
    {
     "name": "stdout",
     "output_type": "stream",
     "text": [
      "<class 'tuple'>\n",
      "(1, 'text', {'key': 'value'})\n",
      "\n",
      "1\n",
      "text\n",
      "{'key': 'value'}\n"
     ]
    }
   ],
   "source": [
    "def printer(*args):\n",
    "    print(type(args))\n",
    "    print(args)\n",
    "    print()\n",
    "    for i in args:\n",
    "        print(i)\n",
    "        \n",
    "\n",
    "printer(1, 'text', {'key': 'value'})"
   ]
  },
  {
   "cell_type": "code",
   "execution_count": 163,
   "id": "44df031f",
   "metadata": {},
   "outputs": [
    {
     "name": "stdout",
     "output_type": "stream",
     "text": [
      "<class 'tuple'>\n",
      "(['John', 'Nick', 'Bill'],)\n",
      "\n",
      "['John', 'Nick', 'Bill']\n"
     ]
    }
   ],
   "source": [
    "names = ['John', 'Nick', 'Bill']\n",
    "printer(names)"
   ]
  },
  {
   "cell_type": "code",
   "execution_count": 164,
   "id": "c28a8e71",
   "metadata": {},
   "outputs": [
    {
     "name": "stdout",
     "output_type": "stream",
     "text": [
      "<class 'tuple'>\n",
      "('John', 'Nick', 'Bill')\n",
      "\n",
      "John\n",
      "Nick\n",
      "Bill\n"
     ]
    }
   ],
   "source": [
    "printer(*names)"
   ]
  },
  {
   "cell_type": "markdown",
   "id": "33616d6d",
   "metadata": {},
   "source": [
    "### Атрибут **kwargs\n",
    "- **kwargs — сокращение от «keyword arguments» (именованные аргументы).\n"
   ]
  },
  {
   "cell_type": "code",
   "execution_count": 165,
   "id": "55affca0",
   "metadata": {},
   "outputs": [
    {
     "name": "stdout",
     "output_type": "stream",
     "text": [
      "<class 'dict'>\n",
      "\n",
      "a - 10\n",
      "b - 20\n"
     ]
    }
   ],
   "source": [
    "def printer(**kwargs):\n",
    "    print(type(kwargs))\n",
    "    print()\n",
    "    for key, value in kwargs.items():\n",
    "        print(f'{key} - {value}')\n",
    "\n",
    "\n",
    "printer(a=10, b='20')"
   ]
  },
  {
   "cell_type": "code",
   "execution_count": 166,
   "id": "e7d45362",
   "metadata": {},
   "outputs": [
    {
     "data": {
      "text/plain": [
       "'Hello, World'"
      ]
     },
     "execution_count": 166,
     "metadata": {},
     "output_type": "execute_result"
    }
   ],
   "source": [
    "def say_hi(**kwargs):\n",
    "    greeting = kwargs.get('greeting', 'Hello')\n",
    "    name = kwargs.get('name', 'World')\n",
    "    return f'{greeting}, {name}'\n",
    "\n",
    "\n",
    "say_hi()"
   ]
  },
  {
   "cell_type": "code",
   "execution_count": 167,
   "id": "7e450ee0",
   "metadata": {},
   "outputs": [
    {
     "data": {
      "text/plain": [
       "'Hey, John'"
      ]
     },
     "execution_count": 167,
     "metadata": {},
     "output_type": "execute_result"
    }
   ],
   "source": [
    "say_hi(greeting='Hey', name='John')"
   ]
  },
  {
   "cell_type": "code",
   "execution_count": 168,
   "id": "a2e01c1b",
   "metadata": {},
   "outputs": [
    {
     "data": {
      "text/plain": [
       "'Hey, John'"
      ]
     },
     "execution_count": 168,
     "metadata": {},
     "output_type": "execute_result"
    }
   ],
   "source": [
    "\n",
    "say_hi(greeting='Hey', name='John', extra=5)"
   ]
  },
  {
   "cell_type": "code",
   "execution_count": 169,
   "id": "58a826f3",
   "metadata": {},
   "outputs": [
    {
     "data": {
      "text/plain": [
       "'Hey, John'"
      ]
     },
     "execution_count": 169,
     "metadata": {},
     "output_type": "execute_result"
    }
   ],
   "source": [
    "data = {'greeting': 'Hey',\n",
    "'name': 'John',\n",
    "'extra':5}\n",
    "say_hi(**data)"
   ]
  },
  {
   "cell_type": "markdown",
   "id": "d7996e9e",
   "metadata": {},
   "source": [
    "### Аннотирование типов"
   ]
  },
  {
   "cell_type": "code",
   "execution_count": 170,
   "id": "f95cae56",
   "metadata": {},
   "outputs": [
    {
     "data": {
      "text/plain": [
       "3"
      ]
     },
     "execution_count": 170,
     "metadata": {},
     "output_type": "execute_result"
    }
   ],
   "source": [
    "def calc_sum(a: int, b: int) -> int:\n",
    "    return a + b\n",
    "\n",
    "\n",
    "calc_sum(1, 2)"
   ]
  },
  {
   "cell_type": "code",
   "execution_count": 171,
   "id": "8260e5fb",
   "metadata": {},
   "outputs": [
    {
     "data": {
      "text/plain": [
       "3.3000000000000003"
      ]
     },
     "execution_count": 171,
     "metadata": {},
     "output_type": "execute_result"
    }
   ],
   "source": [
    "calc_sum(1.1, 2.2)"
   ]
  },
  {
   "cell_type": "code",
   "execution_count": 172,
   "id": "eae83015",
   "metadata": {},
   "outputs": [
    {
     "data": {
      "text/plain": [
       "'abcdce'"
      ]
     },
     "execution_count": 172,
     "metadata": {},
     "output_type": "execute_result"
    }
   ],
   "source": [
    "calc_sum('abc', 'dce')"
   ]
  },
  {
   "cell_type": "markdown",
   "id": "3c14f373",
   "metadata": {},
   "source": [
    "### Генераторы\n",
    "Допустим, у вас есть файл, который весит десяток гигабайт. Из него нужно выбрать и\n",
    "обработать строки, подходящие под какое-то условие. Что в такой ситуации делать? А\n",
    "можно обрабатывать такие объемы данных небольшими порциями, чтобы не вызывать\n",
    "переполнения памяти. В Python на этот случай есть специальный инструмент — генераторы.\n",
    "**Генератор** - это объект, который сразу при создании не вычисляет\n",
    "значения всех своих элементов\n",
    "\n",
    "Генератор хранит в памяти:\n",
    "1. последний вычисленный элемент\n",
    "2. правило перехода к следующему\n",
    "3. условие, при котором выполнение прерывается\n",
    "\n",
    "Вычисление следующего значения происходит лишь при выполнении метода next().\n",
    "Предыдущее значение при этом теряется. Этим генераторы отличаются от списков,\n",
    "ведь списки хранят в памяти все свои элементы, и удалить их можно только\n",
    "программно. Вычисления с помощью генераторов экономят память."
   ]
  },
  {
   "cell_type": "code",
   "execution_count": 466,
   "id": "7103a433",
   "metadata": {},
   "outputs": [],
   "source": [
    "def my_range(start, end):\n",
    "    current = start\n",
    "    while current < end:\n",
    "        yield current\n",
    "        current += 1"
   ]
  },
  {
   "cell_type": "markdown",
   "id": "6f04e8d5",
   "metadata": {},
   "source": [
    "Оператор **yield** приостанавливает функцию и сохраняет локальное состояние, чтобы его\n",
    "можно было возобновить с того места, где оно было остановлено.\n"
   ]
  },
  {
   "cell_type": "code",
   "execution_count": 245,
   "id": "4d368de2",
   "metadata": {},
   "outputs": [
    {
     "data": {
      "text/plain": [
       "<generator object my_range at 0x000001FA282F4040>"
      ]
     },
     "execution_count": 245,
     "metadata": {},
     "output_type": "execute_result"
    }
   ],
   "source": [
    "ranger = my_range(0, 5)\n",
    "ranger"
   ]
  },
  {
   "cell_type": "markdown",
   "id": "e8d3b810",
   "metadata": {},
   "source": [
    "**ranger** - это замороженное состояние generator, что бы заставить генератор генерировать надо его запихать в любую функцию, например list() или next(), которая будет выводить одно значение за один раж"
   ]
  },
  {
   "cell_type": "code",
   "execution_count": 242,
   "id": "c60a9bcf",
   "metadata": {},
   "outputs": [
    {
     "data": {
      "text/plain": [
       "[0, 1, 2, 3, 4]"
      ]
     },
     "execution_count": 242,
     "metadata": {},
     "output_type": "execute_result"
    }
   ],
   "source": [
    "list(ranger)"
   ]
  },
  {
   "cell_type": "code",
   "execution_count": 247,
   "id": "ac9052b3",
   "metadata": {},
   "outputs": [
    {
     "data": {
      "text/plain": [
       "1"
      ]
     },
     "execution_count": 247,
     "metadata": {},
     "output_type": "execute_result"
    }
   ],
   "source": [
    "next(ranger)"
   ]
  },
  {
   "cell_type": "code",
   "execution_count": null,
   "id": "61ea5614",
   "metadata": {},
   "outputs": [],
   "source": [
    "существует короткая запись генератора, generator comprehension"
   ]
  },
  {
   "cell_type": "code",
   "execution_count": 248,
   "id": "4d3f303a",
   "metadata": {},
   "outputs": [],
   "source": [
    "ranger = (i for  i in range(3))"
   ]
  },
  {
   "cell_type": "code",
   "execution_count": 249,
   "id": "f26cc150",
   "metadata": {},
   "outputs": [
    {
     "data": {
      "text/plain": [
       "0"
      ]
     },
     "execution_count": 249,
     "metadata": {},
     "output_type": "execute_result"
    }
   ],
   "source": [
    "next(ranger)"
   ]
  },
  {
   "cell_type": "code",
   "execution_count": 250,
   "id": "8e9593c8",
   "metadata": {},
   "outputs": [],
   "source": [
    "def csv_reader(filename):\n",
    "    for row in open(filename, \"r\"):\n",
    "        yield row    "
   ]
  },
  {
   "cell_type": "code",
   "execution_count": 258,
   "id": "091ce707",
   "metadata": {},
   "outputs": [
    {
     "data": {
      "text/plain": [
       "'id,date,price,bedrooms,bathrooms,sqft_living,sqft_lot,floors,waterfront,view,condition,grade,sqft_above,sqft_basement,yr_built,yr_renovated,zipcode,lat,long,sqft_living15,sqft_lot15\\n'"
      ]
     },
     "execution_count": 258,
     "metadata": {},
     "output_type": "execute_result"
    }
   ],
   "source": [
    "next(csv_reader(\"kc_house_data.csv\"))"
   ]
  },
  {
   "cell_type": "code",
   "execution_count": 463,
   "id": "9563d9c1",
   "metadata": {},
   "outputs": [],
   "source": [
    "row = (row for row in open(\"kc_house_data.csv\", \"r\"))"
   ]
  },
  {
   "cell_type": "code",
   "execution_count": 464,
   "id": "ce0b44ef",
   "metadata": {},
   "outputs": [],
   "source": [
    "data += \"\".join([i.replace(\",\", \"|\") for i in row])"
   ]
  },
  {
   "cell_type": "markdown",
   "id": "9a1ec1c5",
   "metadata": {},
   "source": [
    "### list comprehensions\n"
   ]
  },
  {
   "cell_type": "code",
   "execution_count": 468,
   "id": "54199115",
   "metadata": {},
   "outputs": [
    {
     "data": {
      "text/plain": [
       "[0, 1, 4, 9, 16]"
      ]
     },
     "execution_count": 468,
     "metadata": {},
     "output_type": "execute_result"
    }
   ],
   "source": [
    "squares = []\n",
    "for i in range(5):\n",
    "    squares.append(i * i)\n",
    "squares"
   ]
  },
  {
   "cell_type": "code",
   "execution_count": 469,
   "id": "a0674b2b",
   "metadata": {},
   "outputs": [
    {
     "data": {
      "text/plain": [
       "[0, 1, 4, 9, 16]"
      ]
     },
     "execution_count": 469,
     "metadata": {},
     "output_type": "execute_result"
    }
   ],
   "source": [
    "squares = [i * i for i in range(5)]\n",
    "squares"
   ]
  },
  {
   "cell_type": "code",
   "execution_count": 470,
   "id": "a6484f0b",
   "metadata": {},
   "outputs": [
    {
     "data": {
      "text/plain": [
       "[0, 2, 4, 6, 8]"
      ]
     },
     "execution_count": 470,
     "metadata": {},
     "output_type": "execute_result"
    }
   ],
   "source": [
    "even_nums = []\n",
    "for i in range(10):\n",
    "    if i % 2 == 0:\n",
    "        even_nums.append(i)\n",
    "        \n",
    "even_nums"
   ]
  },
  {
   "cell_type": "code",
   "execution_count": 471,
   "id": "1042014b",
   "metadata": {},
   "outputs": [
    {
     "data": {
      "text/plain": [
       "[0, 2, 4, 6, 8]"
      ]
     },
     "execution_count": 471,
     "metadata": {},
     "output_type": "execute_result"
    }
   ],
   "source": [
    "even_nums = [i for i in range(10) if i % 2 == 0]\n",
    "even_nums"
   ]
  },
  {
   "cell_type": "code",
   "execution_count": 478,
   "id": "71b34048",
   "metadata": {},
   "outputs": [
    {
     "data": {
      "text/plain": [
       "[125, 0, 103, 38, 0, 116]"
      ]
     },
     "execution_count": 478,
     "metadata": {},
     "output_type": "execute_result"
    }
   ],
   "source": [
    "orig_prices = [125, -9, 103, 38, -5, 116]\n",
    "prices = [i if i > 0 else 0 for i in orig_prices]\n",
    "prices"
   ]
  },
  {
   "cell_type": "code",
   "execution_count": 480,
   "id": "fdef2c1a",
   "metadata": {},
   "outputs": [
    {
     "data": {
      "text/plain": [
       "[125, 0, 103, 38, 0, 116]"
      ]
     },
     "execution_count": 480,
     "metadata": {},
     "output_type": "execute_result"
    }
   ],
   "source": [
    "def get_price(price):\n",
    "    return price if price > 0 else 0\n",
    "\n",
    "prices = [get_price(i) for i in orig_prices]\n",
    "prices"
   ]
  },
  {
   "cell_type": "markdown",
   "id": "2bf3bc98",
   "metadata": {},
   "source": [
    "### set comprehensions"
   ]
  },
  {
   "cell_type": "code",
   "execution_count": 481,
   "id": "487803b6",
   "metadata": {},
   "outputs": [
    {
     "data": {
      "text/plain": [
       "{'black', 'green', 'red'}"
      ]
     },
     "execution_count": 481,
     "metadata": {},
     "output_type": "execute_result"
    }
   ],
   "source": [
    "numbers = ['black', 'red', 'green', 'green', 'red', 'green']\n",
    "{i for i in numbers}"
   ]
  },
  {
   "cell_type": "markdown",
   "id": "ac484c07",
   "metadata": {},
   "source": [
    "## dict comprehensions"
   ]
  },
  {
   "cell_type": "code",
   "execution_count": 486,
   "id": "df17582d",
   "metadata": {},
   "outputs": [
    {
     "data": {
      "text/plain": [
       "{0: 0, 1: 1, 2: 4, 3: 9, 4: 16}"
      ]
     },
     "execution_count": 486,
     "metadata": {},
     "output_type": "execute_result"
    }
   ],
   "source": [
    "squares_dict = {i: i * i for i in range(5)}\n",
    "squares_dict"
   ]
  },
  {
   "cell_type": "code",
   "execution_count": 487,
   "id": "268a53cd",
   "metadata": {},
   "outputs": [
    {
     "name": "stdout",
     "output_type": "stream",
     "text": [
      "CPU times: total: 19.4 s\n",
      "Wall time: 19.5 s\n"
     ]
    }
   ],
   "source": [
    "%%time\n",
    "even_nums = []\n",
    "for i in range(100_000_000):\n",
    "    if i % 2 == 0:\n",
    "        even_nums.append(i)"
   ]
  },
  {
   "cell_type": "code",
   "execution_count": 488,
   "id": "e39de596",
   "metadata": {},
   "outputs": [
    {
     "name": "stdout",
     "output_type": "stream",
     "text": [
      "CPU times: total: 13.8 s\n",
      "Wall time: 13.8 s\n"
     ]
    }
   ],
   "source": [
    "%%time\n",
    "even_nums = [i for i in range(100_000_000) if i % 2 == 0]"
   ]
  },
  {
   "cell_type": "code",
   "execution_count": null,
   "id": "32f6d066",
   "metadata": {},
   "outputs": [],
   "source": []
  }
 ],
 "metadata": {
  "kernelspec": {
   "display_name": "Python 3 (ipykernel)",
   "language": "python",
   "name": "python3"
  },
  "language_info": {
   "codemirror_mode": {
    "name": "ipython",
    "version": 3
   },
   "file_extension": ".py",
   "mimetype": "text/x-python",
   "name": "python",
   "nbconvert_exporter": "python",
   "pygments_lexer": "ipython3",
   "version": "3.10.8"
  }
 },
 "nbformat": 4,
 "nbformat_minor": 5
}
