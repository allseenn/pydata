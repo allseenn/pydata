{
 "cells": [
  {
   "cell_type": "markdown",
   "id": "c652ead8",
   "metadata": {},
   "source": [
    "## Задание 1\n",
    "сложение словарей:\n",
    "d.update(d_other) - позволяет дополнять данные словаря или обновлять их (в аргументе должен быть другой словарь)\n",
    "d3 = merge(d1, d2) - позволяет сложить два словаря и сохранить в новый словарь\n",
    "d3 = d1 | d2 - позволяет сложить два словаря и сохранить в новый словарь\n",
    "https://habr.com/ru/company/lamoda/blog/432656/"
   ]
  },
  {
   "cell_type": "code",
   "execution_count": 2,
   "id": "9308ff77",
   "metadata": {},
   "outputs": [],
   "source": [
    "dict1 = {'One': 1, 'Two': 2, 'Three': 3}\n",
    "dict2 = {'Four': 4, 'Five': 5, 'Six': 6}"
   ]
  },
  {
   "cell_type": "code",
   "execution_count": 11,
   "id": "233a8ce6",
   "metadata": {},
   "outputs": [
    {
     "data": {
      "text/plain": [
       "{'One': 1, 'Two': 2, 'Three': 3, 'Four': 4, 'Five': 5, 'Six': 6}"
      ]
     },
     "execution_count": 11,
     "metadata": {},
     "output_type": "execute_result"
    }
   ],
   "source": [
    "from typing import List, Dict\n",
    "def plus(one: Dict, two: Dict) -> Dict: \n",
    "    return one|two\n",
    "\n",
    "plus(dict1, dict2)"
   ]
  },
  {
   "cell_type": "code",
   "execution_count": 6,
   "id": "39c11222",
   "metadata": {},
   "outputs": [
    {
     "data": {
      "text/plain": [
       "'3.10.8'"
      ]
     },
     "execution_count": 6,
     "metadata": {},
     "output_type": "execute_result"
    }
   ],
   "source": [
    "import platform\n",
    "platform.python_version()"
   ]
  },
  {
   "cell_type": "markdown",
   "id": "f188b91a",
   "metadata": {},
   "source": [
    "## Задание 2\n",
    "Напишите функцию, которая из двух списков, делает один словарь, где элементы из первого списка - ключи, а элементы из второго списка - значения\n",
    "Используйте аннотирование типов\n",
    "2.1 Используя цикл for\n",
    "2.2 Используя dict comprehensions\n",
    "keys = ['One', 'Two', 'Three']\n",
    "values = [1, 2, 3]"
   ]
  },
  {
   "cell_type": "code",
   "execution_count": 23,
   "id": "6784e934",
   "metadata": {},
   "outputs": [],
   "source": [
    "keys = ['One', 'Two', 'Three']\n",
    "values = [1, 2, 3]"
   ]
  },
  {
   "cell_type": "code",
   "execution_count": 27,
   "id": "fd465f0d",
   "metadata": {},
   "outputs": [
    {
     "data": {
      "text/plain": [
       "{1: 'One', 2: 'Two', 3: 'Three'}"
      ]
     },
     "execution_count": 27,
     "metadata": {},
     "output_type": "execute_result"
    }
   ],
   "source": [
    "def comb(one, two):\n",
    "    return dict(zip(one, two))\n",
    "comb(values, keys)"
   ]
  },
  {
   "cell_type": "code",
   "execution_count": 29,
   "id": "4b14ed07",
   "metadata": {},
   "outputs": [
    {
     "data": {
      "text/plain": [
       "{<zip at 0x1c9eb960a40>}"
      ]
     },
     "execution_count": 29,
     "metadata": {},
     "output_type": "execute_result"
    }
   ],
   "source": [
    "def comb2(one, two):\n",
    "    return {zip(one,two)}\n",
    "comb2(values, keys)"
   ]
  },
  {
   "cell_type": "markdown",
   "id": "bcc24ddc",
   "metadata": {},
   "source": [
    "## Задание 3\n",
    "Извлеките только два ключа name и age из представленного словаря\n",
    "\n",
    "3.1 Напишите функцию с циклом for\n",
    "\n",
    "Функция на вход принимает:\n",
    "- исходный словарь\n",
    "- ключи, которые нужно извлечь (аргумент по умолчанию)\n",
    "\n",
    "На выходе словарь с нужными ключами\n",
    "- Используйте аннотирование типов\n",
    "\n",
    "3.2 Используя dict comprehensions"
   ]
  },
  {
   "cell_type": "code",
   "execution_count": 55,
   "id": "460f7d9e",
   "metadata": {},
   "outputs": [
    {
     "data": {
      "text/plain": [
       "{'name': 'John', 'age': 25}"
      ]
     },
     "execution_count": 55,
     "metadata": {},
     "output_type": "execute_result"
    }
   ],
   "source": [
    "client_dict = {\n",
    "\t\"name\": \"John\",\n",
    "\t\"age\": 25,\n",
    "\t\"salary\": 5000,\n",
    "\t\"city\": \"Moscow\"\n",
    "}\n",
    "\n",
    "def extract_keys(client_dict: dict, keys: list = [\"name\", \"age\"]) -> dict:\n",
    "    extracted_dict = {}\n",
    "\n",
    "    for key in keys:\n",
    "        if key in client_dict.keys():\n",
    "            extracted_dict[key] = client_dict[key]\n",
    "\n",
    "    return extracted_dict\n",
    "extract_keys(client_dict, [\"name\", \"age\"])"
   ]
  },
  {
   "cell_type": "code",
   "execution_count": 83,
   "id": "e47ff7ed",
   "metadata": {},
   "outputs": [
    {
     "data": {
      "text/plain": [
       "{'name': 'John', 'age': 25}"
      ]
     },
     "execution_count": 83,
     "metadata": {},
     "output_type": "execute_result"
    }
   ],
   "source": [
    "def find(dictionary, name, age):\n",
    "    data = dict()\n",
    "    if name in dictionary.keys():\n",
    "        data[name] = client_dict[name]\n",
    "    if age in dictionary.keys():\n",
    "        data[age] = client_dict[age] \n",
    "    return data\n",
    "find(client_dict, \"name\", \"age\")"
   ]
  },
  {
   "cell_type": "code",
   "execution_count": 84,
   "id": "4d08271f",
   "metadata": {},
   "outputs": [
    {
     "data": {
      "text/plain": [
       "{'name': 'John', 'age': 25}"
      ]
     },
     "execution_count": 84,
     "metadata": {},
     "output_type": "execute_result"
    }
   ],
   "source": [
    "def choice3(client: dict, keys: list = [\"name\", \"age\", \"1\"]) -> dict:\n",
    "    return {key : client.get(key) for key in keys if client.get(key)}\n",
    "choice3(client_dict)"
   ]
  },
  {
   "cell_type": "code",
   "execution_count": null,
   "id": "2025e1bd",
   "metadata": {},
   "outputs": [],
   "source": [
    "## Задача 4.1\n",
    "Сгенерируйте случайные целые числа от 0 до 100 в количестве 5 штук с помощью модуля random\n",
    "\n",
    "Зафиксируйте псевдогенерацию, чтобы сгенерированные значения всегда были одинаковые\n",
    "\n",
    "Используйте list comprehensions"
   ]
  },
  {
   "cell_type": "code",
   "execution_count": 101,
   "id": "d8a8006b",
   "metadata": {},
   "outputs": [
    {
     "data": {
      "text/plain": [
       "[79, 32, 94, 45, 88]"
      ]
     },
     "execution_count": 101,
     "metadata": {},
     "output_type": "execute_result"
    }
   ],
   "source": [
    "import random\n",
    "data = []\n",
    "random.seed(5)\n",
    "for i in range(5):\n",
    "    data.append(random.randint(0, 100))\n",
    "data"
   ]
  },
  {
   "cell_type": "code",
   "execution_count": 102,
   "id": "31cc52c1",
   "metadata": {},
   "outputs": [
    {
     "data": {
      "text/plain": [
       "[94, 83, 67, 3, 59]"
      ]
     },
     "execution_count": 102,
     "metadata": {},
     "output_type": "execute_result"
    }
   ],
   "source": [
    "[random.randint(0,100) for i in range(5)]"
   ]
  },
  {
   "cell_type": "markdown",
   "id": "c17ab158",
   "metadata": {},
   "source": [
    "## Задача 4.1\n",
    "Напишите генератор\n",
    "Генератор на вход принимает список с данными о клиенте (данные из пункта 4.1)\n",
    "Внутри генератора реализуйте обход по списку с данными\n",
    "На каждой итерации генератор будет возвращать кортеж из двух элементов:\n",
    "данные по клиенту (в зависимости от итерации, на 0 итерации вернется 0 элемент, на 1 итерации вернется 1 элемент и тд)\n",
    "целочисленное значение, которое показывает, сколько секунд прошло с предыдущей итерации\n",
    "Примечание: секунды, которые возвращаются должны показывать время не с начала запуска генератора, а именно то время, которое прошло с предыдущей итерации. А значит время на первой итерации должно равняться 0.\n",
    "Используйте функцию time из модуля time для подсчета времени.\n",
    "Чтобы проверить работу таймера, запустите проход по генератору в цикле с time.sleep(2)"
   ]
  },
  {
   "cell_type": "code",
   "execution_count": 103,
   "id": "e2e6153f",
   "metadata": {},
   "outputs": [
    {
     "name": "stdout",
     "output_type": "stream",
     "text": [
      "(49, 0.0)\n",
      "(97, 2.013359785079956)\n",
      "(53, 2.006709575653076)\n",
      "(5, 2.0149383544921875)\n",
      "(33, 2.00244140625)\n"
     ]
    }
   ],
   "source": [
    "import time\n",
    "\n",
    "numbers = [49, 97, 53, 5, 33]\n",
    "def generator(numbers):\n",
    "    prev_time = time.time()\n",
    "    for number in numbers:\n",
    "        current_time = time.time()\n",
    "        yield (number, current_time - prev_time)\n",
    "        prev_time = current_time\n",
    "\n",
    "        \n",
    "for data in generator(numbers): \n",
    "    print(data) \n",
    "    time.sleep(2)"
   ]
  },
  {
   "cell_type": "code",
   "execution_count": null,
   "id": "b6ec2eed",
   "metadata": {},
   "outputs": [],
   "source": [
    "def my_func(d):\n",
    "    print('начало функции: ')\n",
    "    for i in d:\n",
    "        print('Начало цикла')\n",
    "        print(i, d[i])\n",
    "        print('сейчас будет первый оператор yeild')\n",
    "        yield i, d[i]\n",
    "        print('только что был первый оператор yeild')\n",
    "        print('сейчас будет второй оператор yeild')\n",
    "        yield i, d[i]\n",
    "        print('только что был второй оператор yeild')\n",
    "        return 7\n",
    "\n",
    "\n",
    "d = {1: 11, 2: 22, 3: 33}\n",
    "probka = my_func(d)\n",
    "print('1) результат функции: ', next(probka))\n",
    "print()\n",
    "print('2) результат функции: ', next(probka))\n",
    "print()\n",
    "print('3) результат функции: ', next(probka))\n",
    "print()\n",
    "print('4) результат функции: ', next(probka))\n",
    "print()\n",
    "print('5) результат функции: ', next(probka))\n",
    "print()\n",
    "print('6) результат функции: ', next(probka))\n",
    "print()\n",
    "print('7) результат функции: ', next(probka))"
   ]
  },
  {
   "cell_type": "markdown",
   "id": "e1965ef3",
   "metadata": {},
   "source": [
    "## Задача 5\n",
    "5.1 Найдите картинку в интернете и прикрепите её в ячейку с текстом\n",
    "\n",
    "5.2 Создайте следующую таблицу в ячейке с текстом"
   ]
  },
  {
   "cell_type": "markdown",
   "id": "e65d284b",
   "metadata": {},
   "source": [
    "<img src=https://top-online-courses.ru/wp-content/uploads/2021/02/174150_0-1.png />"
   ]
  },
  {
   "cell_type": "markdown",
   "id": "5902de1e",
   "metadata": {},
   "source": [
    "\n",
    "<style type=\"text/css\">\n",
    ".tg  {border-collapse:collapse;border-spacing:0;}\n",
    ".tg td{border-color:black;border-style:solid;border-width:1px;font-family:Arial, sans-serif;font-size:14px;\n",
    "  overflow:hidden;padding:10px 5px;word-break:normal;}\n",
    ".tg th{border-color:black;border-style:solid;border-width:1px;font-family:Arial, sans-serif;font-size:14px;\n",
    "  font-weight:normal;overflow:hidden;padding:10px 5px;word-break:normal;}\n",
    ".tg .tg-0pky{border-color:inherit;text-align:left;vertical-align:top}\n",
    "</style>\n",
    "<table class=\"tg\">\n",
    "<thead>\n",
    "  <tr>\n",
    "    <th class=\"tg-0pky\"></th>\n",
    "    <th class=\"tg-0pky\"></th>\n",
    "    <th class=\"tg-0pky\"></th>\n",
    "    <th class=\"tg-0pky\"></th>\n",
    "    <th class=\"tg-0pky\"></th>\n",
    "  </tr>\n",
    "</thead>\n",
    "<tbody>\n",
    "  <tr>\n",
    "    <td class=\"tg-0pky\"></td>\n",
    "    <td class=\"tg-0pky\"></td>\n",
    "    <td class=\"tg-0pky\"></td>\n",
    "    <td class=\"tg-0pky\"></td>\n",
    "    <td class=\"tg-0pky\"></td>\n",
    "  </tr>\n",
    "  <tr>\n",
    "    <td class=\"tg-0pky\"></td>\n",
    "    <td class=\"tg-0pky\"></td>\n",
    "    <td class=\"tg-0pky\"></td>\n",
    "    <td class=\"tg-0pky\"></td>\n",
    "    <td class=\"tg-0pky\"></td>\n",
    "  </tr>\n",
    "  <tr>\n",
    "    <td class=\"tg-0pky\"></td>\n",
    "    <td class=\"tg-0pky\"></td>\n",
    "    <td class=\"tg-0pky\"></td>\n",
    "    <td class=\"tg-0pky\"></td>\n",
    "    <td class=\"tg-0pky\"></td>\n",
    "  </tr>\n",
    "</tbody>\n",
    "</table>"
   ]
  },
  {
   "cell_type": "markdown",
   "id": "a29be990",
   "metadata": {},
   "source": [
    "<table>\n",
    "<thead>\n",
    "  <tr>\n",
    "    <th></th>\n",
    "    <th>До события</th>\n",
    "    <th>Во время события</th>\n",
    "    <th></th>\n",
    "    <th></th>\n",
    "  </tr>\n",
    "</thead>\n",
    "<tbody>\n",
    "  <tr>\n",
    "    <td>1 контрольная точка</td>\n",
    "    <td>250</td>\n",
    "    <td>500</td>\n",
    "    <td></td>\n",
    "    <td></td>\n",
    "  </tr>\n",
    "  <tr>\n",
    "    <td>2 контрольная точка</td>\n",
    "    <td>350</td>\n",
    "    <td>700</td>\n",
    "    <td></td>\n",
    "    <td></td>\n",
    "  </tr>\n",
    "  <tr>\n",
    "    <td>3 контрольная точка</td>\n",
    "    <td>400</td>\n",
    "    <td>800</td>\n",
    "    <td></td>\n",
    "    <td></td>\n",
    "  </tr>\n",
    "</tbody>\n",
    "</table>"
   ]
  },
  {
   "cell_type": "markdown",
   "id": "237bbc4c",
   "metadata": {},
   "source": [
    "## Задача 6\n",
    "Напишите функцию, которая может принимать любое количество трат пользователя и считать сумму и среднее.\n",
    "\n",
    "На вход поступают целочисленные значения в любом количестве\n",
    "\n",
    "На выходе словарь с ключами суммы трат и средней траты"
   ]
  },
  {
   "cell_type": "code",
   "execution_count": 113,
   "id": "3f65365a",
   "metadata": {},
   "outputs": [
    {
     "data": {
      "text/plain": [
       "{'summa': 15, 'mean': 3.0}"
      ]
     },
     "execution_count": 113,
     "metadata": {},
     "output_type": "execute_result"
    }
   ],
   "source": [
    "def data(*args):\n",
    "    return { \"summa\": sum(args),  \"mean\": sum(args)/len(args)}\n",
    "data(1, 2, 3, 4, 5)\n"
   ]
  },
  {
   "cell_type": "markdown",
   "id": "e4614aa9",
   "metadata": {},
   "source": [
    "## Домашняя рбота\n",
    "Условие 1:\n",
    "Оформляйте ноутбук, используя эти советы:\n",
    "Номер задачи - заголовок 2\n",
    "Номер подзадачи - заголовок 3\n",
    "Предоставленные наборы данных оформляйте, как код\n",
    "Рекомендации для преподавателей по оценке задания:\n",
    "Смотреть, чтобы студент красиво оформлял ноутбук, использовал ячейки с текстом, указывал номера заданий\n",
    "\n",
    "Условие 2:\n",
    "На складе лежат разные фрукты в разном количестве.\n",
    "Нужно написать функцию, которая на вход принимает любое количество названий фруктов и их количество, а возвращает общее количество фруктов на складе\n",
    "Условие 2:\n",
    "На складе лежат разные фрукты в разном количестве.\n",
    "Нужно написать функцию, которая на вход принимает любое количество названий фруктов и их количество, а возвращает общее количество фруктов на складе\n",
    "Условие 3:\n",
    "Дан список с затратами на рекламу. Но в данных есть ошибки, некоторые затраты имеют отрицательную величину. Удалите такие значения из списка и посчитайте суммарные затраты\n",
    "[100, 125, -90, 345, 655, -1, 0, 200]\n",
    "Используйте list comprehensions\n",
    "Условие 4.1:\n",
    "Даны два списка.\n",
    "Дата покупки\n",
    "['2021-09-14', '2021-12-15', '2021-09-08', '2021-12-05', '2021-10-09', '2021-09-30', '2021-12-22', '2021-11-29', '2021-12-24', '2021-11-26', '2021-10-27', '2021-12-18', '2021-11-09', '2021-11-23', '2021-09-27', '2021-10-02', '2021-12-27', '2021-09-20', '2021-12-13', '2021-11-01', '2021-11-09', '2021-12-06', '2021-12-08', '2021-10-09', '2021-10-31', '2021-09-30', '2021-11-09', '2021-12-13', '2021-10-26', '2021-12-09']\n",
    "Суммы покупок по датам\n",
    "[1270, 8413, 9028, 3703, 5739, 4095, 295, 4944, 5723, 3701, 4471, 651, 7037, 4274, 6275, 4988, 6930, 2971, 6592, 2004, 2822, 519, 3406, 2732, 5015, 2008, 316, 6333, 5700, 2887]\n",
    "4.1 Найдите, какая выручка у компании в ноябре\n",
    "Используйте list comprehensions\n",
    "4.2 Найдите выручку компании в зависимости от месяца\n",
    "Для этого напишите функцию, которая на вход принимает список с датами и список с выручкой, а на выходе словарь, где ключи - это месяцы, а значения - это выручка.\n",
    "Используйте аннотирование типов."
   ]
  },
  {
   "cell_type": "code",
   "execution_count": null,
   "id": "19a4805c",
   "metadata": {},
   "outputs": [],
   "source": []
  }
 ],
 "metadata": {
  "kernelspec": {
   "display_name": "Python 3 (ipykernel)",
   "language": "python",
   "name": "python3"
  },
  "language_info": {
   "codemirror_mode": {
    "name": "ipython",
    "version": 3
   },
   "file_extension": ".py",
   "mimetype": "text/x-python",
   "name": "python",
   "nbconvert_exporter": "python",
   "pygments_lexer": "ipython3",
   "version": "3.10.8"
  }
 },
 "nbformat": 4,
 "nbformat_minor": 5
}
