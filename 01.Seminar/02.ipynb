{
 "cells": [
  {
   "cell_type": "markdown",
   "id": "9fc2a798",
   "metadata": {},
   "source": [
    "## Задача 1\n",
    "1.1 Соедините два словаря в один"
   ]
  },
  {
   "cell_type": "code",
   "execution_count": 11,
   "id": "d695f85a",
   "metadata": {},
   "outputs": [
    {
     "data": {
      "text/plain": [
       "{'One': 1, 'Two': 2, 'Three': 3, 'Four': 4, 'Five': 5, 'Six': 6}"
      ]
     },
     "execution_count": 11,
     "metadata": {},
     "output_type": "execute_result"
    }
   ],
   "source": [
    "dict1 = {'One': 1, 'Two': 2, 'Three': 3}\n",
    "dict2 = {'Four': 4, 'Five': 5, 'Six': 6 }\n",
    "dict1.update(dict2)\n",
    "dict1"
   ]
  },
  {
   "cell_type": "markdown",
   "id": "956ae4c5",
   "metadata": {},
   "source": [
    "1.2 Напишите функцию, которая на вход принимает два словаря и возвращает один объединенный словарь\n",
    "Используйте аннотирование типов"
   ]
  },
  {
   "cell_type": "code",
   "execution_count": 26,
   "id": "c552b009",
   "metadata": {},
   "outputs": [
    {
     "name": "stdout",
     "output_type": "stream",
     "text": [
      "{'One': 1, 'Two': 2, 'Three': 3, 'Four': 4, 'Five': 5, 'Six': 6}\n"
     ]
    }
   ],
   "source": [
    "dict1 = {'One': 1, 'Two': 2, 'Three': 3}\n",
    "dict2 = {'Four': 4, 'Five': 5, 'Six': 6 }\n",
    "def comb(one: dict, two: dict) -> dict:\n",
    "    one.update(two)\n",
    "    return one\n",
    "print(comb(dict1, dict2))"
   ]
  },
  {
   "cell_type": "markdown",
   "id": "5688bcf2",
   "metadata": {},
   "source": [
    "## Задача 2\n",
    "Напишите функцию, которая из двух списков, делает один словарь, где элементы из первого списка - ключи, а элементы из второго списка - значения"
   ]
  },
  {
   "cell_type": "code",
   "execution_count": 17,
   "id": "9948ea21",
   "metadata": {},
   "outputs": [
    {
     "data": {
      "text/plain": [
       "{'One': 1, 'Two': 2, 'Three': 3}"
      ]
     },
     "execution_count": 17,
     "metadata": {},
     "output_type": "execute_result"
    }
   ],
   "source": [
    "keys = ['One', 'Two', 'Three']\n",
    "values = [1, 2, 3]\n",
    "def make_dict(keys, values):\n",
    "  dictionary = {}\n",
    "  for i in range(len(keys)):\n",
    "    dictionary[keys[i]] = values[i]\n",
    "  return dictionary\n",
    "make_dict(keys, values)"
   ]
  },
  {
   "cell_type": "code",
   "execution_count": 25,
   "id": "0ccdcb90",
   "metadata": {},
   "outputs": [
    {
     "data": {
      "text/plain": [
       "{'One': 1, 'Two': 2, 'Three': 3}"
      ]
     },
     "execution_count": 25,
     "metadata": {},
     "output_type": "execute_result"
    }
   ],
   "source": [
    "mc = {keys[i]:values[i] for i in range(len(keys))}\n",
    "mc"
   ]
  },
  {
   "cell_type": "markdown",
   "id": "20cff465",
   "metadata": {},
   "source": [
    "## Задача 3\n",
    "3.1 Напишите функцию с циклом for\n",
    "Функция на вход принимает:\n",
    "исходный словарь\n",
    "ключи, которые нужно извлечь (аргумент по умолчанию)\n",
    "На выходе словарь с нужными ключами\n",
    "Используйте аннотирование типов"
   ]
  },
  {
   "cell_type": "code",
   "execution_count": 30,
   "id": "3092b64a",
   "metadata": {},
   "outputs": [
    {
     "data": {
      "text/plain": [
       "{'name': 'John', 'age': 25}"
      ]
     },
     "execution_count": 30,
     "metadata": {},
     "output_type": "execute_result"
    }
   ],
   "source": [
    "client_dict = {\n",
    "    \"name\": \"John\",\n",
    "\t\"age\": 25,\n",
    "\t\"salary\": 5000,\n",
    "\t\"city\": \"Moscow\"\n",
    "}\n",
    "def new(client_dict: dict, keys: list = [\"name\", \"age\"]) -> dict:\n",
    "    newd = dict()\n",
    "    for i in keys:\n",
    "        newd[i] = client_dict[i]\n",
    "    return newd\n",
    "new(client_dict, [\"name\", \"age\"])\n",
    "        "
   ]
  },
  {
   "cell_type": "markdown",
   "id": "1c52bd54",
   "metadata": {},
   "source": [
    "3.2 Используя dict comprehensions"
   ]
  },
  {
   "cell_type": "code",
   "execution_count": 32,
   "id": "1952d571",
   "metadata": {},
   "outputs": [
    {
     "data": {
      "text/plain": [
       "{'name': 'John', 'age': 25}"
      ]
     },
     "execution_count": 32,
     "metadata": {},
     "output_type": "execute_result"
    }
   ],
   "source": [
    "{i:client_dict[i] for i in (\"name\", \"age\")}"
   ]
  },
  {
   "cell_type": "markdown",
   "id": "4174a2a1",
   "metadata": {},
   "source": [
    "## Задача 4\n",
    "4.1 Сгенерируйте случайные целые числа от 0 до 100 в количестве 5 штук с помощью модуля random\n",
    "Зафиксируйте псевдогенерацию, чтобы сгенерированные значения всегда были одинаковые\n",
    "Используйте list comprehensions\n"
   ]
  },
  {
   "cell_type": "code",
   "execution_count": 40,
   "id": "6b39ccff",
   "metadata": {},
   "outputs": [
    {
     "data": {
      "text/plain": [
       "[79, 32, 94, 45, 88]"
      ]
     },
     "execution_count": 40,
     "metadata": {},
     "output_type": "execute_result"
    }
   ],
   "source": [
    "import random\n",
    "n = 5\n",
    "random.seed(5)\n",
    "mylist = [random.randint(0,100) for i in range(5)]\n",
    "mylist"
   ]
  },
  {
   "cell_type": "markdown",
   "id": "15cb956a",
   "metadata": {},
   "source": [
    "4.2\n",
    "Генератор на вход принимает список с данными о клиенте (данные из пункта 4.1)\n",
    "Внутри генератора реализуйте обход по списку с данными\n",
    "На каждой итерации генератор будет возвращать кортеж из двух элементов:\n",
    "данные по клиенту (в зависимости от итерации, на 0 итерации вернется 0 элемент, на 1 итерации вернется 1 элемент и тд)\n",
    "целочисленное значение, которое показывает, сколько секунд прошло с предыдущей итерации\n",
    "Примечание: секунды, которые возвращаются должны показывать время не с начала запуска генератора, а именно то время, которое прошло с предыдущей итерации. А значит время на первой итерации должно равняться 0.\n",
    "Используйте функцию time из модуля time для подсчета времени.\n",
    "Чтобы проверить работу таймера, запустите проход по генератору в цикле с time.sleep(2)\n"
   ]
  },
  {
   "cell_type": "code",
   "execution_count": 47,
   "id": "f8f76ecd",
   "metadata": {},
   "outputs": [
    {
     "name": "stdout",
     "output_type": "stream",
     "text": [
      "(79, 0)\n",
      "(32, 2.0084614753723145)\n",
      "(94, 2.0070130825042725)\n",
      "(45, 2.003058671951294)\n",
      "(88, 2.0044357776641846)\n"
     ]
    }
   ],
   "source": [
    "import time\n",
    "def gena(mylist):\n",
    "    last_time = None\n",
    "    delta = 0\n",
    "    for i in mylist:\n",
    "        current = time.time()\n",
    "        if last_time:\n",
    "            delta = current - last_time\n",
    "        else:\n",
    "            delta: current - current\n",
    "        last_time = time.time()\n",
    "        yield (i, delta)\n",
    "        \n",
    "for j in gena(mylist):\n",
    "    print(j)\n",
    "    time.sleep(2)\n",
    "    "
   ]
  },
  {
   "cell_type": "markdown",
   "id": "a93cf89c",
   "metadata": {},
   "source": [
    "## Задача 5\n",
    "5.1 Найдите картинку в интернете и прикрепите её в ячейку с текстом\n",
    "<img src=https://149695847.v2.pressablecdn.com/wp-content/uploads/2017/06/ea8853d740994d7a23b587d20033c262.jpg>"
   ]
  },
  {
   "cell_type": "markdown",
   "id": "938c642c",
   "metadata": {},
   "source": [
    "5.2 Создайте следующую таблицу в ячейке с текстом\n",
    "<Table>\n",
    "    <tr><td>Befor</td><td>After</td></td><tr>\n",
    "</Table>"
   ]
  },
  {
   "cell_type": "markdown",
   "id": "b26ff0d5",
   "metadata": {},
   "source": [
    "## Задача 6\n",
    "- Напишите функцию, которая может принимать любое количество трат пользователя и считать сумму и среднее.\n",
    "- На вход поступают целочисленные значения в любом количестве\n",
    "- На выходе словарь с ключами суммы трат и средней траты\n"
   ]
  },
  {
   "cell_type": "code",
   "execution_count": 34,
   "id": "bd0d0453",
   "metadata": {},
   "outputs": [
    {
     "data": {
      "text/plain": [
       "{'summ': 10, 'mean': 2.5}"
      ]
     },
     "execution_count": 34,
     "metadata": {},
     "output_type": "execute_result"
    }
   ],
   "source": [
    "def expen(*args):\n",
    "    return {\"summ\":sum(args), \"mean\": sum(args)/len(args)}\n",
    "expen(1, 2, 3, 4)"
   ]
  },
  {
   "cell_type": "code",
   "execution_count": null,
   "id": "34464973",
   "metadata": {},
   "outputs": [],
   "source": []
  }
 ],
 "metadata": {
  "kernelspec": {
   "display_name": "Python 3 (ipykernel)",
   "language": "python",
   "name": "python3"
  },
  "language_info": {
   "codemirror_mode": {
    "name": "ipython",
    "version": 3
   },
   "file_extension": ".py",
   "mimetype": "text/x-python",
   "name": "python",
   "nbconvert_exporter": "python",
   "pygments_lexer": "ipython3",
   "version": "3.10.8"
  }
 },
 "nbformat": 4,
 "nbformat_minor": 5
}
