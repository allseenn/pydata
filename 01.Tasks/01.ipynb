{
 "cells": [
  {
   "cell_type": "markdown",
   "id": "415a8d42",
   "metadata": {},
   "source": [
    "## Условие 1\n",
    "Оформляйте ноутбук, используя эти советы:\n",
    "- Номер задачи - заголовок 2\n",
    "- Номер подзадачи - заголовок 3\n",
    "- Предоставленные наборы данных оформляйте, как код\n",
    "\n",
    "Рекомендации для преподавателей по оценке задания:\n",
    "- Смотреть, чтобы студент красиво оформлял ноутбук, использовал ячейки с текстом, указывал номера заданий"
   ]
  },
  {
   "cell_type": "markdown",
   "id": "ff6d98fb",
   "metadata": {},
   "source": [
    "## Условие 2\n",
    "На складе лежат разные фрукты в разном количестве.\n",
    "\n",
    "Нужно написать функцию, которая на вход принимает любое количество названий фруктов и их количество, а возвращает общее количество фруктов на складе"
   ]
  },
  {
   "cell_type": "code",
   "execution_count": 1,
   "id": "18b5b2d8",
   "metadata": {},
   "outputs": [
    {
     "data": {
      "text/plain": [
       "2700"
      ]
     },
     "execution_count": 1,
     "metadata": {},
     "output_type": "execute_result"
    }
   ],
   "source": [
    "def calculate(data: dict) -> int:\n",
    "    summa = 0\n",
    "    for i in data:\n",
    "        summa += data[i]\n",
    "    return summa\n",
    "\n",
    "fruits = {\n",
    "    \"Ананасы\": 350,\n",
    "    \"Апельсины\": 500,\n",
    "    \"Арбузы\": 50,\n",
    "    \"Бананы\": 700,\n",
    "    \"Дыни\": 100,\n",
    "    \"Яблоки\": 1000\n",
    "}\n",
    "\n",
    "\n",
    "calculate(fruits)"
   ]
  },
  {
   "cell_type": "markdown",
   "id": "1e0ecc5a",
   "metadata": {},
   "source": [
    "## Условие 3\n",
    "Дан список с затратами на рекламу. \n",
    "\n",
    "Но в данных есть ошибки, некоторые затраты имеют отрицательную величину. \n",
    "\n",
    "Удалите такие значения из списка и посчитайте суммарные затраты\n",
    "\n",
    "Используйте list comprehensions"
   ]
  },
  {
   "cell_type": "code",
   "execution_count": 2,
   "id": "a5e11a17",
   "metadata": {},
   "outputs": [],
   "source": [
    "advert = [100, 125, -90, 345, 655, -1, 0, 200]"
   ]
  },
  {
   "cell_type": "code",
   "execution_count": 3,
   "id": "b88d582e",
   "metadata": {},
   "outputs": [
    {
     "data": {
      "text/plain": [
       "1425"
      ]
     },
     "execution_count": 3,
     "metadata": {},
     "output_type": "execute_result"
    }
   ],
   "source": [
    "sum([i for i in advert if i > 0])"
   ]
  },
  {
   "cell_type": "code",
   "execution_count": null,
   "id": "9bfcce74",
   "metadata": {},
   "outputs": [],
   "source": []
  },
  {
   "cell_type": "markdown",
   "id": "822e6e00",
   "metadata": {},
   "source": [
    "## Условие 4\n",
    "Даны два списка.\n",
    "\n",
    "- Дата покупки\n",
    "\n",
    "- Суммы покупок по датам"
   ]
  },
  {
   "cell_type": "code",
   "execution_count": 3,
   "id": "3c21c043",
   "metadata": {},
   "outputs": [],
   "source": [
    "date = ['2021-09-14', '2021-12-15', '2021-09-08', '2021-12-05', '2021-10-09', '2021-09-30', '2021-12-22', '2021-11-29', '2021-12-24', '2021-11-26', '2021-10-27', '2021-12-18', '2021-11-09', '2021-11-23', '2021-09-27', '2021-10-02', '2021-12-27', '2021-09-20', '2021-12-13', '2021-11-01', '2021-11-09', '2021-12-06', '2021-12-08', '2021-10-09', '2021-10-31', '2021-09-30', '2021-11-09', '2021-12-13', '2021-10-26', '2021-12-09']\n",
    "revenue = [1270, 8413, 9028, 3703, 5739, 4095, 295, 4944, 5723, 3701, 4471, 651, 7037, 4274, 6275, 4988, 6930, 2971, 6592, 2004, 2822, 519, 3406, 2732, 5015, 2008, 316, 6333, 5700, 2887]"
   ]
  },
  {
   "cell_type": "markdown",
   "id": "84db8a48",
   "metadata": {},
   "source": [
    "### Условие 4.1 \n",
    "\n",
    "Найдите, какая выручка у компании в ноябре\n",
    "\n",
    "Используйте list comprehensions"
   ]
  },
  {
   "cell_type": "code",
   "execution_count": 5,
   "id": "58e83d42",
   "metadata": {},
   "outputs": [
    {
     "data": {
      "text/plain": [
       "25098"
      ]
     },
     "execution_count": 5,
     "metadata": {},
     "output_type": "execute_result"
    }
   ],
   "source": [
    "sum(i[1] for i in zip(date, revenue) if \"-11-\" in i[0])"
   ]
  },
  {
   "cell_type": "code",
   "execution_count": 6,
   "id": "268ba441",
   "metadata": {},
   "outputs": [
    {
     "data": {
      "text/plain": [
       "[('2021-09-14', 1270),\n",
       " ('2021-12-15', 8413),\n",
       " ('2021-09-08', 9028),\n",
       " ('2021-12-05', 3703),\n",
       " ('2021-10-09', 5739),\n",
       " ('2021-09-30', 4095),\n",
       " ('2021-12-22', 295),\n",
       " ('2021-11-29', 4944),\n",
       " ('2021-12-24', 5723),\n",
       " ('2021-11-26', 3701),\n",
       " ('2021-10-27', 4471),\n",
       " ('2021-12-18', 651),\n",
       " ('2021-11-09', 7037),\n",
       " ('2021-11-23', 4274),\n",
       " ('2021-09-27', 6275),\n",
       " ('2021-10-02', 4988),\n",
       " ('2021-12-27', 6930),\n",
       " ('2021-09-20', 2971),\n",
       " ('2021-12-13', 6592),\n",
       " ('2021-11-01', 2004),\n",
       " ('2021-11-09', 2822),\n",
       " ('2021-12-06', 519),\n",
       " ('2021-12-08', 3406),\n",
       " ('2021-10-09', 2732),\n",
       " ('2021-10-31', 5015),\n",
       " ('2021-09-30', 2008),\n",
       " ('2021-11-09', 316),\n",
       " ('2021-12-13', 6333),\n",
       " ('2021-10-26', 5700),\n",
       " ('2021-12-09', 2887)]"
      ]
     },
     "execution_count": 6,
     "metadata": {},
     "output_type": "execute_result"
    }
   ],
   "source": [
    "list(zip(date, revenue))"
   ]
  },
  {
   "cell_type": "markdown",
   "id": "76b62640",
   "metadata": {},
   "source": [
    "### Условие 4.2\n",
    "\n",
    "Найдите выручку компании в зависимости от месяца\n",
    "\n",
    "Для этого напишите функцию, которая на вход принимает список с датами и список с выручкой, а на выходе словарь, где ключи - это месяцы, а значения - это выручка.\n",
    "\n",
    "Используйте аннотирование типов."
   ]
  },
  {
   "cell_type": "code",
   "execution_count": 6,
   "id": "51bf7cc2",
   "metadata": {},
   "outputs": [
    {
     "data": {
      "text/plain": [
       "{'09': 25647, '12': 45452, '10': 28645, '11': 25098}"
      ]
     },
     "execution_count": 6,
     "metadata": {},
     "output_type": "execute_result"
    }
   ],
   "source": [
    "def profits(d: list, r: list) -> dict:\n",
    "    db = [(i[0][5:7], i[1]) for i in zip(d, r)]\n",
    "    dictator = {i[0]:0 for i in db}\n",
    "    for i in db:\n",
    "        dictator[i[0]] += i[1] \n",
    "    return dictator\n",
    "\n",
    "\n",
    "profits(date, revenue)"
   ]
  },
  {
   "cell_type": "code",
   "execution_count": 8,
   "id": "dfe81adf",
   "metadata": {},
   "outputs": [
    {
     "data": {
      "text/plain": [
       "{'09': 2008, '12': 2887, '10': 5700, '11': 316}"
      ]
     },
     "execution_count": 8,
     "metadata": {},
     "output_type": "execute_result"
    }
   ],
   "source": [
    "{i[0][5:7]:i[1] for i in zip(date, revenue)}"
   ]
  },
  {
   "cell_type": "code",
   "execution_count": null,
   "id": "64fc9d21",
   "metadata": {},
   "outputs": [],
   "source": []
  }
 ],
 "metadata": {
  "kernelspec": {
   "display_name": "Python 3 (ipykernel)",
   "language": "python",
   "name": "python3"
  },
  "language_info": {
   "codemirror_mode": {
    "name": "ipython",
    "version": 3
   },
   "file_extension": ".py",
   "mimetype": "text/x-python",
   "name": "python",
   "nbconvert_exporter": "python",
   "pygments_lexer": "ipython3",
   "version": "3.10.8"
  }
 },
 "nbformat": 4,
 "nbformat_minor": 5
}
